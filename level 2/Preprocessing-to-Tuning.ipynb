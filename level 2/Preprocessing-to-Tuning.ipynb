{
 "cells": [
  {
   "cell_type": "markdown",
   "id": "5ed55330",
   "metadata": {},
   "source": [
    "# Preprocessing"
   ]
  },
  {
   "cell_type": "markdown",
   "id": "32d7d98c",
   "metadata": {},
   "source": [
    "데이터 불러오기"
   ]
  },
  {
   "cell_type": "code",
   "execution_count": 60,
   "id": "94d45c5d",
   "metadata": {},
   "outputs": [],
   "source": [
    "import pandas as pd\n",
    "\n",
    "train = pd.read_csv('../data/따릉이/train.csv')\n",
    "test = pd.read_csv('../data/따릉이/test.csv')"
   ]
  },
  {
   "cell_type": "markdown",
   "id": "8ca3359f",
   "metadata": {},
   "source": [
    "#### 결측치 처리 - 평균 : `mean`\n",
    "1. 결측치가 있는 피쳐 탐색(체크)\n",
    "2. 결측치를 각 피쳐의 평균값으로 대체"
   ]
  },
  {
   "cell_type": "code",
   "execution_count": 61,
   "id": "0af7450f",
   "metadata": {},
   "outputs": [
    {
     "name": "stdout",
     "output_type": "stream",
     "text": [
      "[ Train data' NaN ]\n",
      "id                          0\n",
      "hour                        0\n",
      "hour_bef_temperature        2\n",
      "hour_bef_precipitation      2\n",
      "hour_bef_windspeed          9\n",
      "hour_bef_humidity           2\n",
      "hour_bef_visibility         2\n",
      "hour_bef_ozone             76\n",
      "hour_bef_pm10              90\n",
      "hour_bef_pm2.5            117\n",
      "count                       0\n",
      "dtype: int64\n",
      "[ Test data' NaN ]\n",
      "id                         0\n",
      "hour                       0\n",
      "hour_bef_temperature       1\n",
      "hour_bef_precipitation     1\n",
      "hour_bef_windspeed         1\n",
      "hour_bef_humidity          1\n",
      "hour_bef_visibility        1\n",
      "hour_bef_ozone            35\n",
      "hour_bef_pm10             37\n",
      "hour_bef_pm2.5            36\n",
      "dtype: int64\n"
     ]
    }
   ],
   "source": [
    "# 1\n",
    "print('[ Train data\\' NaN ]')\n",
    "print(train.isnull().sum())\n",
    "\n",
    "print('[ Test data\\' NaN ]')\n",
    "print(test.isnull().sum())"
   ]
  },
  {
   "cell_type": "code",
   "execution_count": 62,
   "id": "a91b4fb7",
   "metadata": {},
   "outputs": [],
   "source": [
    "# 2\n",
    "# NaN 존재 - train feature : 8개, test는 나중에 처리하나?\n",
    "train.fillna({'hour_bef_temperature':int(train['hour_bef_temperature'].mean())}, inplace=True)\n",
    "train.fillna({'hour_bef_precipitation':int(train['hour_bef_precipitation'].mean())}, inplace=True)\n",
    "train.fillna({'hour_bef_windspeed':int(train['hour_bef_windspeed'].mean())}, inplace=True)\n",
    "train.fillna({'hour_bef_humidity':int(train['hour_bef_humidity'].mean())}, inplace=True)\n",
    "train.fillna({'hour_bef_visibility':int(train['hour_bef_visibility'].mean())}, inplace=True)\n",
    "train.fillna({'hour_bef_ozone':int(train['hour_bef_ozone'].mean())}, inplace=True)\n",
    "train.fillna({'hour_bef_pm10':int(train['hour_bef_pm10'].mean())}, inplace=True)\n",
    "train.fillna({'hour_bef_pm2.5':int(train['hour_bef_pm2.5'].mean())}, inplace=True)\n"
   ]
  },
  {
   "cell_type": "code",
   "execution_count": 63,
   "id": "46d9bb5a",
   "metadata": {},
   "outputs": [
    {
     "name": "stdout",
     "output_type": "stream",
     "text": [
      "id                        0\n",
      "hour                      0\n",
      "hour_bef_temperature      0\n",
      "hour_bef_precipitation    0\n",
      "hour_bef_windspeed        0\n",
      "hour_bef_humidity         0\n",
      "hour_bef_visibility       0\n",
      "hour_bef_ozone            0\n",
      "hour_bef_pm10             0\n",
      "hour_bef_pm2.5            0\n",
      "count                     0\n",
      "dtype: int64\n"
     ]
    }
   ],
   "source": [
    "# 결과 확인\n",
    "print(train.isnull().sum())"
   ]
  },
  {
   "cell_type": "code",
   "execution_count": 64,
   "id": "233c3d15",
   "metadata": {},
   "outputs": [],
   "source": [
    "# NaN 존재 - test feature : 8개\n",
    "test.fillna({'hour_bef_temperature':int(test['hour_bef_temperature'].mean())}, inplace=True)\n",
    "test.fillna({'hour_bef_precipitation':int(test['hour_bef_precipitation'].mean())}, inplace=True)\n",
    "test.fillna({'hour_bef_windspeed':int(test['hour_bef_windspeed'].mean())}, inplace=True)\n",
    "test.fillna({'hour_bef_humidity':int(test['hour_bef_humidity'].mean())}, inplace=True)\n",
    "test.fillna({'hour_bef_visibility':int(test['hour_bef_visibility'].mean())}, inplace=True)\n",
    "test.fillna({'hour_bef_ozone':int(test['hour_bef_ozone'].mean())}, inplace=True)\n",
    "test.fillna({'hour_bef_pm10':int(test['hour_bef_pm10'].mean())}, inplace=True)\n",
    "test.fillna({'hour_bef_pm2.5':int(test['hour_bef_pm2.5'].mean())}, inplace=True)\n"
   ]
  },
  {
   "cell_type": "code",
   "execution_count": 65,
   "id": "15c5caac",
   "metadata": {},
   "outputs": [
    {
     "name": "stdout",
     "output_type": "stream",
     "text": [
      "id                        0\n",
      "hour                      0\n",
      "hour_bef_temperature      0\n",
      "hour_bef_precipitation    0\n",
      "hour_bef_windspeed        0\n",
      "hour_bef_humidity         0\n",
      "hour_bef_visibility       0\n",
      "hour_bef_ozone            0\n",
      "hour_bef_pm10             0\n",
      "hour_bef_pm2.5            0\n",
      "dtype: int64\n"
     ]
    }
   ],
   "source": [
    "print(test.isnull().sum())"
   ]
  },
  {
   "cell_type": "markdown",
   "id": "d64523e6",
   "metadata": {},
   "source": [
    "#### 결측치 처리 - 보간법 : `interpolate`\n",
    "0. `보간법` - 각 피쳐의 `정보성을 강조`\n",
    "    - 따릉이 데이터' 피쳐 : 기상정보(시간순)\n",
    "    - sol. 결측치 바로 전후 데이터의 평균으로 보간\n",
    "    \n",
    "    \n",
    "1. 결측치가 있는 피쳐 탐색(체크)\n",
    "2. 결측치를 보간법으로 대체"
   ]
  },
  {
   "cell_type": "code",
   "execution_count": 66,
   "id": "eecc6243",
   "metadata": {},
   "outputs": [
    {
     "name": "stdout",
     "output_type": "stream",
     "text": [
      "id                          0\n",
      "hour                        0\n",
      "hour_bef_temperature        2\n",
      "hour_bef_precipitation      2\n",
      "hour_bef_windspeed          9\n",
      "hour_bef_humidity           2\n",
      "hour_bef_visibility         2\n",
      "hour_bef_ozone             76\n",
      "hour_bef_pm10              90\n",
      "hour_bef_pm2.5            117\n",
      "count                       0\n",
      "dtype: int64\n",
      "\n",
      "id                         0\n",
      "hour                       0\n",
      "hour_bef_temperature       1\n",
      "hour_bef_precipitation     1\n",
      "hour_bef_windspeed         1\n",
      "hour_bef_humidity          1\n",
      "hour_bef_visibility        1\n",
      "hour_bef_ozone            35\n",
      "hour_bef_pm10             37\n",
      "hour_bef_pm2.5            36\n",
      "dtype: int64\n"
     ]
    }
   ],
   "source": [
    "# init\n",
    "train = pd.read_csv('../data/따릉이/train.csv')\n",
    "test = pd.read_csv('../data/따릉이/test.csv')\n",
    "\n",
    "# 1\n",
    "print(train.isnull().sum())\n",
    "print()\n",
    "print(test.isnull().sum())"
   ]
  },
  {
   "cell_type": "code",
   "execution_count": 67,
   "id": "eeab7e7d",
   "metadata": {},
   "outputs": [],
   "source": [
    "# 2: 결측치 이전 행과 다음 행의 평균으로 대체 보간하기\n",
    "train.interpolate(inplace=True)\n",
    "test.interpolate(inplace=True)"
   ]
  },
  {
   "cell_type": "code",
   "execution_count": 68,
   "id": "3e6178b1",
   "metadata": {},
   "outputs": [
    {
     "name": "stdout",
     "output_type": "stream",
     "text": [
      "id                        0\n",
      "hour                      0\n",
      "hour_bef_temperature      0\n",
      "hour_bef_precipitation    0\n",
      "hour_bef_windspeed        0\n",
      "hour_bef_humidity         0\n",
      "hour_bef_visibility       0\n",
      "hour_bef_ozone            0\n",
      "hour_bef_pm10             0\n",
      "hour_bef_pm2.5            0\n",
      "count                     0\n",
      "dtype: int64\n",
      "\n",
      "id                        0\n",
      "hour                      0\n",
      "hour_bef_temperature      0\n",
      "hour_bef_precipitation    0\n",
      "hour_bef_windspeed        0\n",
      "hour_bef_humidity         0\n",
      "hour_bef_visibility       0\n",
      "hour_bef_ozone            0\n",
      "hour_bef_pm10             0\n",
      "hour_bef_pm2.5            0\n",
      "dtype: int64\n"
     ]
    }
   ],
   "source": [
    "print(train.isnull().sum())\n",
    "print()\n",
    "print(test.isnull().sum())"
   ]
  },
  {
   "cell_type": "markdown",
   "id": "67521486",
   "metadata": {},
   "source": [
    "# Modeling"
   ]
  },
  {
   "cell_type": "markdown",
   "id": "4368810e",
   "metadata": {},
   "source": [
    "### **Ensemble - RandomForest**\n",
    "\n",
    "여러 개의 의사결정트리를 만들고 이들의 평균으로 예측의 성능을 높이는 방법\n",
    "\n",
    "하나의 데이터 - 여러 개의 렌덤 데이터셋 추출 + 모델 생성 가능"
   ]
  },
  {
   "cell_type": "code",
   "execution_count": 69,
   "id": "e7e4e9c3",
   "metadata": {},
   "outputs": [],
   "source": [
    "# Model Declaration\n",
    "\n",
    "from sklearn.ensemble import RandomForestRegressor\n",
    "#model = RandomForestRegressor()"
   ]
  },
  {
   "cell_type": "markdown",
   "id": "dcda79f7",
   "metadata": {},
   "source": [
    "#### Training - **모델 평가** 척도 : `criterion`\n",
    "`RMSE` : `MSE`(평균제곱오차)에 `루트`를 씌운 것\n",
    "  - `criterion= 'mse'`로 구현 가능"
   ]
  },
  {
   "cell_type": "code",
   "execution_count": 70,
   "id": "c93e25fc",
   "metadata": {},
   "outputs": [
    {
     "data": {
      "text/plain": [
       "RandomForestRegressor()"
      ]
     },
     "execution_count": 70,
     "metadata": {},
     "output_type": "execute_result"
    }
   ],
   "source": [
    "# Set Dataset\n",
    "\n",
    "X_train = train.drop(['count'], axis=1)\n",
    "Y_train = train['count']\n",
    "\n",
    "\n",
    "# Training\n",
    "\n",
    "model = RandomForestRegressor(criterion= 'mse') #RMSE\n",
    "model.fit(X_train, Y_train)"
   ]
  },
  {
   "cell_type": "markdown",
   "id": "73517b70",
   "metadata": {},
   "source": [
    "# Tuning"
   ]
  },
  {
   "cell_type": "markdown",
   "id": "930d60cf",
   "metadata": {},
   "source": [
    "### **Feature Engineering**\n",
    "`데이터의 숨겨진 특성을 발굴`해내기 위해 설명변수(피쳐)들을 분석하기 좋은 형태로 가공하는 작업\n",
    "\n",
    "- e.g. 변수에 로그 | 제곱 | 변수 정규화(Nomalization) | ... "
   ]
  },
  {
   "cell_type": "markdown",
   "id": "a99343da",
   "metadata": {},
   "source": [
    "#### 변수의 중요도 파악 : `feature_importances_`\n",
    "변수의 중요도 : 예측변수(설명변수)를 결정할 때 `긱 피쳐가 얼마나 중요한 역할`을 하는지\n",
    "- tip) 모델 성능 향상 : 변수의 중요도 ⬇ 피쳐 제거하기 "
   ]
  },
  {
   "cell_type": "code",
   "execution_count": 71,
   "id": "1583e3e1",
   "metadata": {},
   "outputs": [
    {
     "data": {
      "text/plain": [
       "array([0.02662188, 0.59588397, 0.17659072, 0.01740592, 0.02558287,\n",
       "       0.03752433, 0.03511734, 0.03369762, 0.03195103, 0.01962431])"
      ]
     },
     "execution_count": 71,
     "metadata": {},
     "output_type": "execute_result"
    }
   ],
   "source": [
    "model.feature_importances_ # 모델 예측변수의 중요도"
   ]
  },
  {
   "cell_type": "markdown",
   "id": "40fc5bdd",
   "metadata": {},
   "source": [
    "#### 변수(피쳐) 제거\n",
    "모델의 성능을 향상시키기 위해 변수 중요도가 낮은, 의미 없는 피쳐를 파악, 제거 후 훈련과 예측을 진행\n",
    "\n",
    "0. 피쳐의 경우의 수에 따라 3가지 dataset(train, test) 생성\n",
    "\n",
    "1. 각 경우에 따른 모델로 예측하기"
   ]
  },
  {
   "cell_type": "code",
   "execution_count": 72,
   "id": "9e47f6e9",
   "metadata": {},
   "outputs": [],
   "source": [
    "# init\n",
    "train = pd.read_csv('../data/따릉이/train.csv')\n",
    "test = pd.read_csv('../data/따릉이/test.csv')"
   ]
  },
  {
   "cell_type": "code",
   "execution_count": 73,
   "id": "f4eb914d",
   "metadata": {},
   "outputs": [],
   "source": [
    "# 결측치 전처리\n",
    "train.interpolate(inplace=True)\n",
    "test.interpolate(inplace=True)"
   ]
  },
  {
   "cell_type": "code",
   "execution_count": 74,
   "id": "5ae561d6",
   "metadata": {},
   "outputs": [],
   "source": [
    "# 피쳐를 drop한 3개의 train set 생성\n",
    "\n",
    "X_train_1 = train.drop(['count', 'id'], axis=1)\n",
    "X_train_2 = train.drop(['count', 'id', 'hour_bef_windspeed'], axis=1)\n",
    "X_train_3 = train.drop(['count', 'id', 'hour_bef_windspeed', 'hour_bef_pm2.5'], axis=1)\n",
    "\n",
    "# train set에 맞게 test set도 피쳐 drop 후 생성\n",
    "\n",
    "test_1 = test.drop(['id'], axis=1)\n",
    "test_2 = test.drop(['id', 'hour_bef_windspeed'], axis=1)\n",
    "test_3 = test.drop(['id', 'hour_bef_windspeed', 'hour_bef_pm2.5'], axis=1)"
   ]
  },
  {
   "cell_type": "code",
   "execution_count": 75,
   "id": "f15427d9",
   "metadata": {},
   "outputs": [
    {
     "data": {
      "text/plain": [
       "RandomForestRegressor()"
      ]
     },
     "execution_count": 75,
     "metadata": {},
     "output_type": "execute_result"
    }
   ],
   "source": [
    "# Models Training\n",
    "\n",
    "model_input_var1 = RandomForestRegressor(criterion='mse')\n",
    "model_input_var1.fit(X_train_1, Y_train)\n",
    "\n",
    "model_input_var2 = RandomForestRegressor(criterion='mse')\n",
    "model_input_var2.fit(X_train_2, Y_train)\n",
    "\n",
    "model_input_var3 = RandomForestRegressor(criterion='mse')\n",
    "model_input_var3.fit(X_train_3, Y_train)"
   ]
  },
  {
   "cell_type": "code",
   "execution_count": 76,
   "id": "1a042778",
   "metadata": {},
   "outputs": [],
   "source": [
    "# Predict Test set\n",
    "\n",
    "y_pred_1 = model_input_var1.predict(test_1)\n",
    "y_pred_2 = model_input_var2.predict(test_2)\n",
    "y_pred_3 = model_input_var3.predict(test_3)"
   ]
  },
  {
   "cell_type": "code",
   "execution_count": 77,
   "id": "e6c3a3ae",
   "metadata": {},
   "outputs": [],
   "source": [
    "# Result submission\n",
    "\n",
    "submission_1 = pd.read_csv('../data/따릉이/submission.csv')\n",
    "submission_2 = pd.read_csv('../data/따릉이/submission.csv')\n",
    "submission_3 = pd.read_csv('../data/따릉이/submission.csv')\n",
    "\n",
    "submission_1['count'] = y_pred_1\n",
    "submission_2['count'] = y_pred_2\n",
    "submission_3['count'] = y_pred_3\n",
    "\n",
    "#submission_1.to_csv('sub_1.csv',index=False)\n",
    "#submission_2.to_csv('sub_2.csv',index=False)\n",
    "#submission_3.to_csv('sub_3.csv',index=False)"
   ]
  },
  {
   "attachments": {
    "image.png": {
     "image/png": "[encoded data removed]"
    }
   },
   "cell_type": "markdown",
   "id": "c7fcb01c",
   "metadata": {},
   "source": [
    "#### Submission data\n",
    "(sample)\n",
    "![image.png](attachment:image.png)"
   ]
  },
  {
   "cell_type": "markdown",
   "id": "5493315b",
   "metadata": {},
   "source": [
    "### **HyperParameter Tuning**\n",
    "\n",
    "`정지규칙`들을 종합적으로 고려하여 *최적의 조건값* 을 설정하는 것\n",
    "<br><br>\n",
    "\n",
    "- **최대 깊이(max_depth)** : root 노드로부터 최대로 내려갈 수 있는 깊이\n",
    "  - 작을수록 트리는 작아짐\n",
    " \n",
    "- **최소 노드크기(min_samples_split)** : 노드를 분할하기 위한 데이터 수\n",
    "  - 작을수록 트리는 커짐\n",
    "  \n",
    "- **최소 향상도(min_impurity_decrease)** : 노드를 분할 하기 위한 최소 향상도. *향상도가 설정값 이하 > 분할 멈춤*\n",
    "  - 작을수록 트리는 커짐\n",
    "  \n",
    "- **비용 복잡도(Cost-complexity)** : 트리가 커지는 것에 대해 **패널티 계수**를 설정 > **불순도 & 복잡도** 계산 "
   ]
  },
  {
   "cell_type": "markdown",
   "id": "c7235796",
   "metadata": {},
   "source": [
    "### HyperParameter Tuning - **GridSearch**\n",
    "\n",
    "- 하이퍼파라미터 튜닝 방법론 중 성능 Best\n",
    "- *완전탐색(Exhaustive Search)*을 사용\n",
    "- 가능한 모든 조합 중 best 조합을 찾아줌\n",
    "  - (단점) 완전탐색이기에 best를 찾기까지 시간이 오래 걸림"
   ]
  },
  {
   "cell_type": "code",
   "execution_count": 79,
   "id": "bef11461",
   "metadata": {},
   "outputs": [
    {
     "data": {
      "text/plain": [
       "GridSearchCV(cv=3, estimator=RandomForestRegressor(random_state=2020),\n",
       "             n_jobs=-1,\n",
       "             param_grid={'max_features': [5, 6, 8],\n",
       "                         'min_samples_leaf': [1, 3, 5],\n",
       "                         'n_estimators': [200, 300, 500]})"
      ]
     },
     "execution_count": 79,
     "metadata": {},
     "output_type": "execute_result"
    }
   ],
   "source": [
    "from sklearn.model_selection import GridSearchCV\n",
    "\n",
    "model = RandomForestRegressor(criterion = 'mse', random_state=2020)\n",
    "\n",
    "params = {'n_estimators': [200, 300, 500],\n",
    "          'max_features': [5, 6, 8],\n",
    "          'min_samples_leaf': [1, 3, 5]}\n",
    "\n",
    "greedy_CV = GridSearchCV(model, param_grid=params, cv = 3, n_jobs = -1)\n",
    "greedy_CV.fit(X_train, Y_train)"
   ]
  },
  {
   "cell_type": "code",
   "execution_count": 80,
   "id": "fc016d9e",
   "metadata": {},
   "outputs": [
    {
     "data": {
      "text/plain": [
       "array([ 98.2096086 , 219.56942193,  79.55960615,  42.45692629,\n",
       "        58.30486392, 128.80483538, 192.5235082 , 293.74524871,\n",
       "        41.61470815, 110.82005016, 299.65255831, 251.45269998,\n",
       "       108.02500782,  43.80077573, 201.53157912, 161.17019805,\n",
       "        25.26753403, 178.62625389, 327.58199014, 162.13943663,\n",
       "       232.61158011,  81.12243977,  30.00139691, 140.52185454,\n",
       "       139.41846753, 114.47330363,  26.48873329, 120.80212807,\n",
       "       114.07323016, 159.43079647,  82.01214334,  40.45128678,\n",
       "        66.29257155, 129.96711484, 277.92944208,  40.14311712,\n",
       "       134.36958668, 117.57202501, 225.60856668,  85.28241007,\n",
       "        59.38148031, 122.77523341, 169.98789946,  80.12606825,\n",
       "       321.01760867, 188.70778622,  88.67695961,  63.10269096,\n",
       "        21.55733771,  89.84926431, 248.55496642,  94.11972066,\n",
       "       143.42935269,  81.08390931, 201.26205712, 150.92577552,\n",
       "        50.57824471, 184.3272286 ,  29.43277822,  19.47562297,\n",
       "        96.77822777,  85.50351067, 255.50734634, 294.43998717,\n",
       "       152.32400942, 309.07746828,  32.32045563, 225.29706751,\n",
       "       149.24735706,  35.04050204, 105.38803846,  32.68961427,\n",
       "       152.03621861,  15.74079758, 318.46389438, 234.34399531,\n",
       "        35.86953478, 186.01459612, 242.77825589,  31.57453018,\n",
       "       248.34841655, 133.48737716,  94.4612333 ,  83.18025313,\n",
       "        87.09818482, 322.08878891,  57.49723076, 170.41373244,\n",
       "        96.29654076, 261.60097622, 276.3398805 , 165.51091739,\n",
       "        66.5346271 , 105.64980629,  44.62498824,  84.9077191 ,\n",
       "        99.30804114,  29.22204894, 222.27290395, 154.97670326,\n",
       "        21.39456542, 162.01615997,  39.9149216 , 117.89592797,\n",
       "        76.07663674,  60.39351696, 103.15904473,  29.70321701,\n",
       "       172.48052723, 136.46831385, 188.71213352, 247.41873244,\n",
       "       180.16359175, 118.4710464 ,  63.50673221, 124.52355018,\n",
       "       224.9778098 ,  41.76927901, 216.44470406,  21.24699266,\n",
       "       105.73413108, 108.6505594 , 181.83737686, 126.11766472,\n",
       "        50.06505147, 121.17843038,  56.40191534,  17.12725069,\n",
       "       215.48448341,  58.95000183, 128.00113528, 159.94503673,\n",
       "        21.87330808, 139.01896924, 290.06551659, 128.89943521,\n",
       "        44.16558781, 144.93275944, 237.89663664, 345.29433208,\n",
       "       161.66937352,  37.38118771,  33.44309777,  91.50886231,\n",
       "        95.83435233, 116.37615861, 105.43765409, 126.1225499 ,\n",
       "       152.18758141, 207.24854449, 130.05651388, 296.53856397,\n",
       "       301.23517416, 220.70977187, 176.64354056,  14.37629192,\n",
       "       121.8380128 ,  26.63569565,  89.22326094, 138.2516421 ,\n",
       "       137.94497854,  34.07229804, 212.38814068, 209.92034494,\n",
       "       123.76743747,  27.63464106, 221.49052057, 160.37209139,\n",
       "       284.83245309,  28.47506346, 121.14680363, 132.35771143,\n",
       "        90.68828692, 127.83170758, 103.16666041,  99.58794972,\n",
       "       215.10295686, 195.77402396, 162.88340402, 111.91076558,\n",
       "       208.42905944, 175.28524589, 154.94928451, 254.5531043 ,\n",
       "       141.23155211,  90.80435281,  99.59886389, 291.14954484,\n",
       "       167.19524026,  51.65361451,  42.48561956, 139.10633748,\n",
       "       119.98915055, 111.30653163, 137.06426948, 267.25874391,\n",
       "       314.71071312, 138.25192587, 122.95015031, 106.32857997,\n",
       "        28.91926467, 220.21235469,  27.77113585, 318.33759371,\n",
       "       141.88187865,  43.01380196, 126.37381019, 230.74064025,\n",
       "       226.77327826,  63.34518375, 283.03121408, 152.86959043,\n",
       "       126.46567502, 213.60370503, 242.07363892, 126.09998701,\n",
       "       237.93896861, 118.58065608, 134.83352567,  93.84818038,\n",
       "        94.43986955,  34.7974602 , 106.34984776,  64.10776821,\n",
       "       147.51502947,  42.37342343, 207.09033001, 189.40623251,\n",
       "        36.06822199, 163.53876347, 257.2869327 , 121.19709836,\n",
       "        30.20441086,  75.74854339, 207.61008134, 101.4880849 ,\n",
       "       348.67411673, 311.53883149, 160.22460092, 199.45627446,\n",
       "        20.54994105, 219.56903451,  34.65943506, 140.69815236,\n",
       "       148.61514815, 100.80948665, 148.79025241, 231.70115103,\n",
       "       100.65049545,  27.78465152,  93.80686606, 262.86483432,\n",
       "       235.73273172, 153.33468519, 135.04615972, 162.47905195,\n",
       "        41.70614743, 341.20600925,  85.37305195,  21.99501696,\n",
       "       171.92818258,  40.30763949, 227.43011953,  34.08275277,\n",
       "       144.79045238, 239.27869024,  31.04470188, 228.9579113 ,\n",
       "        87.4118278 , 191.75026215, 127.57914933, 110.90425012,\n",
       "        57.5727945 , 311.55618843,  33.05497463, 273.51312494,\n",
       "        85.74772595, 167.69493038, 165.57890981,  39.67156833,\n",
       "       281.16733284, 104.24801136,  17.29422423, 169.07210009,\n",
       "       155.37539683, 113.08260979, 247.82188696, 134.5254887 ,\n",
       "        66.88234638, 103.82675353, 118.09000385, 264.95356734,\n",
       "       142.29187352, 122.28917328, 136.71711304,  40.21932805,\n",
       "       149.4361728 ,  49.97685705, 221.91596946,  23.94667827,\n",
       "       110.99539791, 214.70218206, 208.99719565, 218.60439394,\n",
       "       331.02112634, 216.6781539 , 132.97941739,  63.44719312,\n",
       "       165.43851756,  90.49596152, 268.61114734, 251.70878139,\n",
       "       241.3509466 ,  46.02742473, 260.71561195, 215.87275349,\n",
       "       154.15663769,  42.61782939,  33.62333862,  20.95904601,\n",
       "       212.65334055,  33.62102266, 138.85511015, 143.33121344,\n",
       "        96.77860656, 338.96315982, 260.97669086, 100.68113985,\n",
       "        86.92822932,  94.73740476,  26.10391955,  98.04250651,\n",
       "        80.48948846, 186.76630351, 141.08212127,  36.22562266,\n",
       "       244.98430189, 210.57554621, 139.61289228, 331.47076462,\n",
       "        21.52337494,  32.81143663, 305.12401952, 190.74115572,\n",
       "       119.37098971,  27.81239792,  31.53050363,  99.87934716,\n",
       "       119.39664177, 282.02945109, 205.65331878, 234.49381322,\n",
       "        62.79569699,  51.28982879, 197.23601453,  64.03196152,\n",
       "        22.07353475,  32.58697799, 102.23493272, 111.00661953,\n",
       "        68.84327405, 205.66059859, 229.54050653, 150.84005844,\n",
       "       147.02364242,  42.85516811,  74.59597284, 102.5957249 ,\n",
       "        28.04518338, 201.3971633 , 102.14507612,  78.63768963,\n",
       "       229.76147549, 287.20431978, 217.31523569,  18.96172807,\n",
       "        43.27993716, 175.56530433, 100.84379764,  45.88079437,\n",
       "       103.48240291, 118.05987608, 306.59297336, 283.62696047,\n",
       "       120.75472475,  80.90569194, 131.62198849, 170.25236279,\n",
       "       119.29912554, 232.37360821,  42.75050484, 158.64568627,\n",
       "       281.06257567,  56.48298797, 115.49311171, 113.54567141,\n",
       "       267.95550562,  43.28940488,  29.61973773, 201.50880159,\n",
       "        20.3045196 ,  91.47534019,  28.97270551, 259.22353006,\n",
       "        83.9833866 , 119.28368158, 170.85611286, 146.20276455,\n",
       "       115.82036255, 111.99725361, 174.96289969, 270.31191118,\n",
       "       140.57044709, 122.45530099,  53.77349389, 123.0672604 ,\n",
       "       176.17481828, 115.88006301,  59.41426585,  53.78921191,\n",
       "        35.39561436,  36.23226756,  21.02726263,  33.20748329,\n",
       "       161.1857488 , 111.14600084, 100.89606133, 184.63615818,\n",
       "       116.21170418, 327.1823186 , 134.97945948, 199.09420907,\n",
       "       238.10781929, 116.24064184, 115.99847667, 211.71931353,\n",
       "       313.83193837,  42.81031987, 115.49473875, 336.86159389,\n",
       "       266.34874303, 156.64011881,  49.76892316,  97.80006205,\n",
       "       115.51958604,  97.39182674, 109.95303373,  38.62514733,\n",
       "       313.64782133, 280.1785349 , 232.51052365, 122.58644976,\n",
       "       179.68277513, 207.53945451, 141.19011334, 143.42502042,\n",
       "       241.28517587, 101.78081758,  60.68448124, 120.392454  ,\n",
       "       183.32955171, 130.89891077, 117.11073461, 114.86455327,\n",
       "        90.10334476, 141.7222699 , 260.92663687,  98.75182215,\n",
       "       186.51665496, 180.69663672, 240.53791565,  56.61902826,\n",
       "       315.74158287,  94.92018506, 150.63236908, 179.92361845,\n",
       "        29.29410245,  28.21319891, 216.12074134, 271.72176674,\n",
       "       105.7115772 , 104.54409502,  37.03884055,  32.47716438,\n",
       "       228.32784583, 141.80392847, 319.97218713, 224.88972334,\n",
       "        90.57673761, 128.94816667, 224.26753546, 183.30628262,\n",
       "        71.3247215 ,  75.61199485,  52.48883045, 154.19685852,\n",
       "       115.41805964, 226.91584591, 283.77759174, 221.26572959,\n",
       "        17.50665476, 219.50509357,  58.84095169, 102.00571878,\n",
       "        45.35239274, 245.36041828, 236.62277594,  29.95564767,\n",
       "       158.33654477,  80.57221765, 198.26337927, 190.95451302,\n",
       "       212.01969877, 193.84254774, 326.34227257,  96.19350048,\n",
       "        30.9013824 , 232.4830977 , 146.86561638, 172.71943639,\n",
       "        36.57408562, 229.72336484,  20.58047835,  57.69886076,\n",
       "        30.5346562 ,  73.20727943,  37.4151556 , 175.85165897,\n",
       "       196.32755099, 149.38896256,  43.68327934,  88.5824524 ,\n",
       "        40.20121943, 289.05488453,  96.89708416,  41.42936532,\n",
       "       102.66565729,  28.19399699,  43.26457287,  33.3708146 ,\n",
       "       293.88013898,  19.42556602, 184.39016429, 241.56524137,\n",
       "       301.46749414, 204.69835551, 101.74664117, 134.03707977,\n",
       "       105.94590067, 102.98698703, 212.08871837,  44.98509962,\n",
       "        20.95444649, 147.79175435,  20.48199772, 142.4721419 ,\n",
       "       142.54845541,  46.0297619 , 174.58183731, 196.69656242,\n",
       "       203.02756058, 331.48025353,  27.74434247, 103.50057696,\n",
       "        40.21029536,  44.037117  , 101.10271188,  99.94401337,\n",
       "        37.20784367, 163.66916581,  89.00537109, 189.10182191,\n",
       "       124.44067218, 325.11019538, 175.72583985, 259.10965445,\n",
       "       133.69616513, 271.67448598,  63.86866993,  33.37432554,\n",
       "        28.23544001,  35.73465792,  87.97343987,  27.35918266,\n",
       "        28.59922547, 105.03060183,  30.0850083 , 249.8970824 ,\n",
       "       226.4390504 , 141.33428726,  87.42996922,  97.30302068,\n",
       "        36.1078646 , 151.06619124, 101.19225277, 133.43303068,\n",
       "       185.83246158,  27.18227826, 226.82844211, 119.7582208 ,\n",
       "        15.11711579, 258.12168348, 106.13757059,  42.16207949,\n",
       "        89.38096346, 241.82152098, 105.57234905, 340.67713313,\n",
       "       282.28932527, 216.7209881 , 209.47503268, 178.6199121 ,\n",
       "        23.88411027, 118.5833058 , 146.8507247 ,  39.33927633,\n",
       "        45.93524447,  95.08824268, 213.63972617, 154.93622619,\n",
       "        57.60275541, 177.63772836,  99.12647658, 247.74455456,\n",
       "       114.94162951, 302.25187514,  74.38467262,  29.84218302,\n",
       "        25.1720469 , 221.38433827, 240.5613557 ,  89.51102165,\n",
       "       113.95199103,  30.65597607,  98.553833  , 142.11044767,\n",
       "       179.17686287, 120.14673538, 101.93344204,  44.29772018,\n",
       "       118.06324603, 103.52506205,  66.0322678 , 110.42669617,\n",
       "       295.97249004, 124.66076441, 249.66577144, 143.09118889,\n",
       "       280.53702962, 185.14941426,  78.90474004, 122.75523882,\n",
       "        98.52792367, 291.41132555, 245.31236968, 242.11074318,\n",
       "       109.30263504, 117.88943531, 126.83231585,  21.95306746,\n",
       "       148.70246321, 229.87983096,  39.99743158,  85.14234909,\n",
       "       119.49310137, 120.0223961 , 161.49067462, 123.77296104,\n",
       "       286.5198672 ,  87.43040945, 111.7703272 , 135.1285214 ,\n",
       "       293.4223427 , 106.5060663 , 140.14240622, 144.79433095,\n",
       "        40.60018651, 161.09266775,  29.52319865,  29.19967258,\n",
       "        28.91599832, 220.01718447, 105.78002573, 164.10733117,\n",
       "       242.94272298, 136.19721516, 125.42949555,  34.42195503,\n",
       "       146.74840248,  20.82237855, 143.19296286,  31.33051852,\n",
       "        42.72389177, 100.83412326,  54.20276864, 205.75929209,\n",
       "        19.29381217,  89.94233321, 190.35222215,  30.40659634,\n",
       "       290.43957062, 257.32722246,  16.79077561, 340.21120059,\n",
       "       117.34469607, 240.18604401,  43.4926229 ,  86.81629497,\n",
       "        45.13669264, 271.46886536,  60.38231037,  66.08331037,\n",
       "       120.88389214, 156.01582486, 156.39782792])"
      ]
     },
     "execution_count": 80,
     "metadata": {},
     "output_type": "execute_result"
    }
   ],
   "source": [
    "pred = greedy_CV.predict(test)\n",
    "\n",
    "pred"
   ]
  },
  {
   "cell_type": "code",
   "execution_count": 81,
   "id": "9c0ab346",
   "metadata": {},
   "outputs": [],
   "source": [
    "submission = pd.read_csv('../data/따릉이/submission.csv')"
   ]
  },
  {
   "cell_type": "code",
   "execution_count": 82,
   "id": "7f663ce5",
   "metadata": {},
   "outputs": [
    {
     "data": {
      "text/html": [
       "<div>\n",
       "<style scoped>\n",
       "    .dataframe tbody tr th:only-of-type {\n",
       "        vertical-align: middle;\n",
       "    }\n",
       "\n",
       "    .dataframe tbody tr th {\n",
       "        vertical-align: top;\n",
       "    }\n",
       "\n",
       "    .dataframe thead th {\n",
       "        text-align: right;\n",
       "    }\n",
       "</style>\n",
       "<table border=\"1\" class=\"dataframe\">\n",
       "  <thead>\n",
       "    <tr style=\"text-align: right;\">\n",
       "      <th></th>\n",
       "      <th>id</th>\n",
       "      <th>count</th>\n",
       "    </tr>\n",
       "  </thead>\n",
       "  <tbody>\n",
       "    <tr>\n",
       "      <th>0</th>\n",
       "      <td>0</td>\n",
       "      <td>98.21</td>\n",
       "    </tr>\n",
       "    <tr>\n",
       "      <th>1</th>\n",
       "      <td>1</td>\n",
       "      <td>219.57</td>\n",
       "    </tr>\n",
       "    <tr>\n",
       "      <th>2</th>\n",
       "      <td>2</td>\n",
       "      <td>79.56</td>\n",
       "    </tr>\n",
       "    <tr>\n",
       "      <th>3</th>\n",
       "      <td>4</td>\n",
       "      <td>42.46</td>\n",
       "    </tr>\n",
       "    <tr>\n",
       "      <th>4</th>\n",
       "      <td>5</td>\n",
       "      <td>58.30</td>\n",
       "    </tr>\n",
       "  </tbody>\n",
       "</table>\n",
       "</div>"
      ],
      "text/plain": [
       "   id   count\n",
       "0   0   98.21\n",
       "1   1  219.57\n",
       "2   2   79.56\n",
       "3   4   42.46\n",
       "4   5   58.30"
      ]
     },
     "execution_count": 82,
     "metadata": {},
     "output_type": "execute_result"
    }
   ],
   "source": [
    "import numpy as np\n",
    "\n",
    "submission['count'] = np.round(pred, 2)\n",
    "\n",
    "submission.head()"
   ]
  },
  {
   "cell_type": "code",
   "execution_count": 83,
   "id": "82216487",
   "metadata": {},
   "outputs": [],
   "source": [
    "submission.to_csv('gridSearch-sub.csv', index=False)"
   ]
  },
  {
   "cell_type": "code",
   "execution_count": null,
   "id": "3835afd7",
   "metadata": {},
   "outputs": [],
   "source": []
  }
 ],
 "metadata": {
  "kernelspec": {
   "display_name": "Python 3",
   "language": "python",
   "name": "python3"
  },
  "language_info": {
   "codemirror_mode": {
    "name": "ipython",
    "version": 3
   },
   "file_extension": ".py",
   "mimetype": "text/x-python",
   "name": "python",
   "nbconvert_exporter": "python",
   "pygments_lexer": "ipython3",
   "version": "3.8.8"
  }
 },
 "nbformat": 4,
 "nbformat_minor": 5
}
