{
 "cells": [
  {
   "cell_type": "markdown",
   "id": "5ed55330",
   "metadata": {},
   "source": [
    "# Preprocessing"
   ]
  },
  {
   "cell_type": "markdown",
   "id": "32d7d98c",
   "metadata": {},
   "source": [
    "데이터 불러오기"
   ]
  },
  {
   "cell_type": "code",
   "execution_count": 38,
   "id": "94d45c5d",
   "metadata": {},
   "outputs": [],
   "source": [
    "import pandas as pd\n",
    "\n",
    "train = pd.read_csv('../data/따릉이/train.csv')\n",
    "test = pd.read_csv('../data/따릉이/test.csv')"
   ]
  },
  {
   "cell_type": "markdown",
   "id": "8ca3359f",
   "metadata": {},
   "source": [
    "#### 결측치 처리 - 평균 : `mean`\n",
    "1. 결측치가 있는 피쳐 탐색(체크)\n",
    "2. 결측치를 각 피쳐의 평균값으로 대체"
   ]
  },
  {
   "cell_type": "code",
   "execution_count": 39,
   "id": "0af7450f",
   "metadata": {},
   "outputs": [
    {
     "name": "stdout",
     "output_type": "stream",
     "text": [
      "[ Train data' NaN ]\n",
      "id                          0\n",
      "hour                        0\n",
      "hour_bef_temperature        2\n",
      "hour_bef_precipitation      2\n",
      "hour_bef_windspeed          9\n",
      "hour_bef_humidity           2\n",
      "hour_bef_visibility         2\n",
      "hour_bef_ozone             76\n",
      "hour_bef_pm10              90\n",
      "hour_bef_pm2.5            117\n",
      "count                       0\n",
      "dtype: int64\n",
      "[ Test data' NaN ]\n",
      "id                         0\n",
      "hour                       0\n",
      "hour_bef_temperature       1\n",
      "hour_bef_precipitation     1\n",
      "hour_bef_windspeed         1\n",
      "hour_bef_humidity          1\n",
      "hour_bef_visibility        1\n",
      "hour_bef_ozone            35\n",
      "hour_bef_pm10             37\n",
      "hour_bef_pm2.5            36\n",
      "dtype: int64\n"
     ]
    }
   ],
   "source": [
    "# 1\n",
    "print('[ Train data\\' NaN ]')\n",
    "print(train.isnull().sum())\n",
    "\n",
    "print('[ Test data\\' NaN ]')\n",
    "print(test.isnull().sum())"
   ]
  },
  {
   "cell_type": "code",
   "execution_count": 40,
   "id": "a91b4fb7",
   "metadata": {},
   "outputs": [],
   "source": [
    "# 2\n",
    "# NaN 존재 - train feature : 8개, test는 나중에 처리하나?\n",
    "train.fillna({'hour_bef_temperature':int(train['hour_bef_temperature'].mean())}, inplace=True)\n",
    "train.fillna({'hour_bef_precipitation':int(train['hour_bef_precipitation'].mean())}, inplace=True)\n",
    "train.fillna({'hour_bef_windspeed':int(train['hour_bef_windspeed'].mean())}, inplace=True)\n",
    "train.fillna({'hour_bef_humidity':int(train['hour_bef_humidity'].mean())}, inplace=True)\n",
    "train.fillna({'hour_bef_visibility':int(train['hour_bef_visibility'].mean())}, inplace=True)\n",
    "train.fillna({'hour_bef_ozone':int(train['hour_bef_ozone'].mean())}, inplace=True)\n",
    "train.fillna({'hour_bef_pm10':int(train['hour_bef_pm10'].mean())}, inplace=True)\n",
    "train.fillna({'hour_bef_pm2.5':int(train['hour_bef_pm2.5'].mean())}, inplace=True)\n"
   ]
  },
  {
   "cell_type": "code",
   "execution_count": 41,
   "id": "46d9bb5a",
   "metadata": {},
   "outputs": [
    {
     "name": "stdout",
     "output_type": "stream",
     "text": [
      "id                        0\n",
      "hour                      0\n",
      "hour_bef_temperature      0\n",
      "hour_bef_precipitation    0\n",
      "hour_bef_windspeed        0\n",
      "hour_bef_humidity         0\n",
      "hour_bef_visibility       0\n",
      "hour_bef_ozone            0\n",
      "hour_bef_pm10             0\n",
      "hour_bef_pm2.5            0\n",
      "count                     0\n",
      "dtype: int64\n"
     ]
    }
   ],
   "source": [
    "# 결과 확인\n",
    "print(train.isnull().sum())"
   ]
  },
  {
   "cell_type": "code",
   "execution_count": 42,
   "id": "233c3d15",
   "metadata": {},
   "outputs": [],
   "source": [
    "# NaN 존재 - test feature : 8개\n",
    "test.fillna({'hour_bef_temperature':int(test['hour_bef_temperature'].mean())}, inplace=True)\n",
    "test.fillna({'hour_bef_precipitation':int(test['hour_bef_precipitation'].mean())}, inplace=True)\n",
    "test.fillna({'hour_bef_windspeed':int(test['hour_bef_windspeed'].mean())}, inplace=True)\n",
    "test.fillna({'hour_bef_humidity':int(test['hour_bef_humidity'].mean())}, inplace=True)\n",
    "test.fillna({'hour_bef_visibility':int(test['hour_bef_visibility'].mean())}, inplace=True)\n",
    "test.fillna({'hour_bef_ozone':int(test['hour_bef_ozone'].mean())}, inplace=True)\n",
    "test.fillna({'hour_bef_pm10':int(test['hour_bef_pm10'].mean())}, inplace=True)\n",
    "test.fillna({'hour_bef_pm2.5':int(test['hour_bef_pm2.5'].mean())}, inplace=True)\n"
   ]
  },
  {
   "cell_type": "code",
   "execution_count": 43,
   "id": "15c5caac",
   "metadata": {},
   "outputs": [
    {
     "name": "stdout",
     "output_type": "stream",
     "text": [
      "id                        0\n",
      "hour                      0\n",
      "hour_bef_temperature      0\n",
      "hour_bef_precipitation    0\n",
      "hour_bef_windspeed        0\n",
      "hour_bef_humidity         0\n",
      "hour_bef_visibility       0\n",
      "hour_bef_ozone            0\n",
      "hour_bef_pm10             0\n",
      "hour_bef_pm2.5            0\n",
      "dtype: int64\n"
     ]
    }
   ],
   "source": [
    "print(test.isnull().sum())"
   ]
  },
  {
   "cell_type": "markdown",
   "id": "d64523e6",
   "metadata": {},
   "source": [
    "#### 결측치 처리 - 보간법 : `interpolate`\n",
    "0. `보간법` - 각 피쳐의 `정보성을 강조`\n",
    "    - 따릉이 데이터' 피쳐 : 기상정보(시간순)\n",
    "    - sol. 결측치 바로 전후 데이터의 평균으로 보간\n",
    "    \n",
    "    \n",
    "1. 결측치가 있는 피쳐 탐색(체크)\n",
    "2. 결측치를 보간법으로 대체"
   ]
  },
  {
   "cell_type": "code",
   "execution_count": 44,
   "id": "eecc6243",
   "metadata": {},
   "outputs": [
    {
     "name": "stdout",
     "output_type": "stream",
     "text": [
      "id                          0\n",
      "hour                        0\n",
      "hour_bef_temperature        2\n",
      "hour_bef_precipitation      2\n",
      "hour_bef_windspeed          9\n",
      "hour_bef_humidity           2\n",
      "hour_bef_visibility         2\n",
      "hour_bef_ozone             76\n",
      "hour_bef_pm10              90\n",
      "hour_bef_pm2.5            117\n",
      "count                       0\n",
      "dtype: int64\n",
      "\n",
      "id                         0\n",
      "hour                       0\n",
      "hour_bef_temperature       1\n",
      "hour_bef_precipitation     1\n",
      "hour_bef_windspeed         1\n",
      "hour_bef_humidity          1\n",
      "hour_bef_visibility        1\n",
      "hour_bef_ozone            35\n",
      "hour_bef_pm10             37\n",
      "hour_bef_pm2.5            36\n",
      "dtype: int64\n"
     ]
    }
   ],
   "source": [
    "# init\n",
    "train = pd.read_csv('../data/따릉이/train.csv')\n",
    "test = pd.read_csv('../data/따릉이/test.csv')\n",
    "\n",
    "# 1\n",
    "print(train.isnull().sum())\n",
    "print()\n",
    "print(test.isnull().sum())"
   ]
  },
  {
   "cell_type": "code",
   "execution_count": 45,
   "id": "eeab7e7d",
   "metadata": {},
   "outputs": [],
   "source": [
    "# 2: 결측치 이전 행과 다음 행의 평균으로 대체 보간하기\n",
    "train.interpolate(inplace=True)\n",
    "test.interpolate(inplace=True)"
   ]
  },
  {
   "cell_type": "code",
   "execution_count": 46,
   "id": "3e6178b1",
   "metadata": {},
   "outputs": [
    {
     "name": "stdout",
     "output_type": "stream",
     "text": [
      "id                        0\n",
      "hour                      0\n",
      "hour_bef_temperature      0\n",
      "hour_bef_precipitation    0\n",
      "hour_bef_windspeed        0\n",
      "hour_bef_humidity         0\n",
      "hour_bef_visibility       0\n",
      "hour_bef_ozone            0\n",
      "hour_bef_pm10             0\n",
      "hour_bef_pm2.5            0\n",
      "count                     0\n",
      "dtype: int64\n",
      "\n",
      "id                        0\n",
      "hour                      0\n",
      "hour_bef_temperature      0\n",
      "hour_bef_precipitation    0\n",
      "hour_bef_windspeed        0\n",
      "hour_bef_humidity         0\n",
      "hour_bef_visibility       0\n",
      "hour_bef_ozone            0\n",
      "hour_bef_pm10             0\n",
      "hour_bef_pm2.5            0\n",
      "dtype: int64\n"
     ]
    }
   ],
   "source": [
    "print(train.isnull().sum())\n",
    "print()\n",
    "print(test.isnull().sum())"
   ]
  },
  {
   "cell_type": "markdown",
   "id": "67521486",
   "metadata": {},
   "source": [
    "# Modeling"
   ]
  },
  {
   "cell_type": "markdown",
   "id": "4368810e",
   "metadata": {},
   "source": [
    "### **Ensemble - RandomForest**\n",
    "\n",
    "여러 개의 의사결정트리를 만들고 이들의 평균으로 예측의 성능을 높이는 방법\n",
    "\n",
    "하나의 데이터 - 여러 개의 렌덤 데이터셋 추출 + 모델 생성 가능"
   ]
  },
  {
   "cell_type": "code",
   "execution_count": 47,
   "id": "e7e4e9c3",
   "metadata": {},
   "outputs": [],
   "source": [
    "# Model Declaration\n",
    "\n",
    "from sklearn.ensemble import RandomForestRegressor\n",
    "#model = RandomForestRegressor()"
   ]
  },
  {
   "cell_type": "markdown",
   "id": "dcda79f7",
   "metadata": {},
   "source": [
    "#### Training - **모델 평가** 척도 : `criterion`\n",
    "`RMSE` : `MSE`(평균제곱오차)에 `루트`를 씌운 것\n",
    "  - `criterion= 'mse'`로 구현 가능"
   ]
  },
  {
   "cell_type": "code",
   "execution_count": 48,
   "id": "c93e25fc",
   "metadata": {},
   "outputs": [
    {
     "data": {
      "text/plain": [
       "RandomForestRegressor()"
      ]
     },
     "execution_count": 48,
     "metadata": {},
     "output_type": "execute_result"
    }
   ],
   "source": [
    "# Set Dataset\n",
    "\n",
    "X_train = train.drop(['count'], axis=1)\n",
    "Y_train = train['count']\n",
    "\n",
    "\n",
    "# Training\n",
    "\n",
    "model = RandomForestRegressor(criterion= 'mse') #RMSE\n",
    "model.fit(X_train, Y_train)"
   ]
  },
  {
   "cell_type": "markdown",
   "id": "73517b70",
   "metadata": {},
   "source": [
    "# Tuning"
   ]
  },
  {
   "cell_type": "markdown",
   "id": "930d60cf",
   "metadata": {},
   "source": [
    "### **Feature Engineering**\n",
    "`데이터의 숨겨진 특성을 발굴`해내기 위해 설명변수(피쳐)들을 분석하기 좋은 형태로 가공하는 작업\n",
    "\n",
    "- e.g. 변수에 로그 | 제곱 | 변수 정규화(Nomalization) | ... "
   ]
  },
  {
   "cell_type": "markdown",
   "id": "a99343da",
   "metadata": {},
   "source": [
    "#### 변수의 중요도 파악 : `feature_importances_`\n",
    "변수의 중요도 : 예측변수(설명변수)를 결정할 때 `긱 피쳐가 얼마나 중요한 역할`을 하는지\n",
    "- tip) 모델 성능 향상 : 변수의 중요도 ⬇ 피쳐 제거하기 "
   ]
  },
  {
   "cell_type": "code",
   "execution_count": 49,
   "id": "1583e3e1",
   "metadata": {},
   "outputs": [
    {
     "data": {
      "text/plain": [
       "array([0.02480734, 0.59788404, 0.18013164, 0.0195068 , 0.02531698,\n",
       "       0.03790663, 0.03061702, 0.03253955, 0.03041568, 0.02087431])"
      ]
     },
     "execution_count": 49,
     "metadata": {},
     "output_type": "execute_result"
    }
   ],
   "source": [
    "model.feature_importances_ # 모델 예측변수의 중요도"
   ]
  },
  {
   "cell_type": "markdown",
   "id": "40fc5bdd",
   "metadata": {},
   "source": [
    "#### 변수(피쳐) 제거\n",
    "모델의 성능을 향상시키기 위해 변수 중요도가 낮은, 의미 없는 피쳐를 파악, 제거 후 훈련과 예측을 진행\n",
    "\n",
    "0. 피쳐의 경우의 수에 따라 3가지 dataset(train, test) 생성\n",
    "\n",
    "1. 각 경우에 따른 모델로 예측하기"
   ]
  },
  {
   "cell_type": "code",
   "execution_count": 50,
   "id": "9e47f6e9",
   "metadata": {},
   "outputs": [],
   "source": [
    "# init\n",
    "train = pd.read_csv('../data/따릉이/train.csv')\n",
    "test = pd.read_csv('../data/따릉이/test.csv')"
   ]
  },
  {
   "cell_type": "code",
   "execution_count": 51,
   "id": "f4eb914d",
   "metadata": {},
   "outputs": [],
   "source": [
    "# 결측치 전처리\n",
    "train.interpolate(inplace=True)\n",
    "test.interpolate(inplace=True)"
   ]
  },
  {
   "cell_type": "code",
   "execution_count": 52,
   "id": "5ae561d6",
   "metadata": {},
   "outputs": [],
   "source": [
    "# 피쳐를 drop한 3개의 train set 생성\n",
    "\n",
    "X_train_1 = train.drop(['count', 'id'], axis=1)\n",
    "X_train_2 = train.drop(['count', 'id', 'hour_bef_windspeed'], axis=1)\n",
    "X_train_3 = train.drop(['count', 'id', 'hour_bef_windspeed', 'hour_bef_pm2.5'], axis=1)\n",
    "\n",
    "# train set에 맞게 test set도 피쳐 drop 후 생성\n",
    "\n",
    "test_1 = test.drop(['id'], axis=1)\n",
    "test_2 = test.drop(['id', 'hour_bef_windspeed'], axis=1)\n",
    "test_3 = test.drop(['id', 'hour_bef_windspeed', 'hour_bef_pm2.5'], axis=1)"
   ]
  },
  {
   "cell_type": "code",
   "execution_count": 53,
   "id": "f15427d9",
   "metadata": {},
   "outputs": [
    {
     "data": {
      "text/plain": [
       "RandomForestRegressor()"
      ]
     },
     "execution_count": 53,
     "metadata": {},
     "output_type": "execute_result"
    }
   ],
   "source": [
    "# Models Training\n",
    "\n",
    "model_input_var1 = RandomForestRegressor(criterion='mse')\n",
    "model_input_var1.fit(X_train_1, Y_train)\n",
    "\n",
    "model_input_var2 = RandomForestRegressor(criterion='mse')\n",
    "model_input_var2.fit(X_train_2, Y_train)\n",
    "\n",
    "model_input_var3 = RandomForestRegressor(criterion='mse')\n",
    "model_input_var3.fit(X_train_3, Y_train)"
   ]
  },
  {
   "cell_type": "code",
   "execution_count": 54,
   "id": "1a042778",
   "metadata": {},
   "outputs": [],
   "source": [
    "# Predict Test set\n",
    "\n",
    "y_pred_1 = model_input_var1.predict(test_1)\n",
    "y_pred_2 = model_input_var2.predict(test_2)\n",
    "y_pred_3 = model_input_var3.predict(test_3)"
   ]
  },
  {
   "cell_type": "code",
   "execution_count": 55,
   "id": "e6c3a3ae",
   "metadata": {},
   "outputs": [],
   "source": [
    "# Result submission\n",
    "\n",
    "submission_1 = pd.read_csv('../data/따릉이/submission.csv')\n",
    "submission_2 = pd.read_csv('../data/따릉이/submission.csv')\n",
    "submission_3 = pd.read_csv('../data/따릉이/submission.csv')\n",
    "\n",
    "submission_1['count'] = y_pred_1\n",
    "submission_2['count'] = y_pred_2\n",
    "submission_3['count'] = y_pred_3\n",
    "\n",
    "submission_1.to_csv('sub_1.csv',index=False)\n",
    "submission_2.to_csv('sub_2.csv',index=False)\n",
    "submission_3.to_csv('sub_3.csv',index=False)"
   ]
  },
  {
   "attachments": {
    "image.png": {
     "image/png": "[encoded data removed]"
    }
   },
   "cell_type": "markdown",
   "id": "c7fcb01c",
   "metadata": {},
   "source": [
    "### Submission data\n",
    "(sample)\n",
    "![image.png](attachment:image.png)"
   ]
  },
  {
   "cell_type": "code",
   "execution_count": null,
   "id": "87703e7b",
   "metadata": {},
   "outputs": [],
   "source": []
  }
 ],
 "metadata": {
  "kernelspec": {
   "display_name": "Python 3",
   "language": "python",
   "name": "python3"
  },
  "language_info": {
   "codemirror_mode": {
    "name": "ipython",
    "version": 3
   },
   "file_extension": ".py",
   "mimetype": "text/x-python",
   "name": "python",
   "nbconvert_exporter": "python",
   "pygments_lexer": "ipython3",
   "version": "3.8.8"
  }
 },
 "nbformat": 4,
 "nbformat_minor": 5
}
