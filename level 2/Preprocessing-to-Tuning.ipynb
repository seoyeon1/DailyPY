{
 "cells": [
  {
   "cell_type": "markdown",
   "id": "5ed55330",
   "metadata": {},
   "source": [
    "# Preprocessing"
   ]
  },
  {
   "cell_type": "markdown",
   "id": "32d7d98c",
   "metadata": {},
   "source": [
    "데이터 불러오기"
   ]
  },
  {
   "cell_type": "code",
   "execution_count": 1,
   "id": "94d45c5d",
   "metadata": {},
   "outputs": [],
   "source": [
    "import pandas as pd\n",
    "\n",
    "train = pd.read_csv('../data/따릉이/train.csv')\n",
    "test = pd.read_csv('../data/따릉이/test.csv')"
   ]
  },
  {
   "cell_type": "markdown",
   "id": "8ca3359f",
   "metadata": {},
   "source": [
    "#### 결측치 처리 - 평균 : `mean`\n",
    "1. 결측치가 있는 피쳐 탐색(체크)\n",
    "2. 결측치를 각 피쳐의 평균값으로 대체"
   ]
  },
  {
   "cell_type": "code",
   "execution_count": 5,
   "id": "0af7450f",
   "metadata": {},
   "outputs": [
    {
     "name": "stdout",
     "output_type": "stream",
     "text": [
      "[ Train data' NaN ]\n",
      "id                          0\n",
      "hour                        0\n",
      "hour_bef_temperature        2\n",
      "hour_bef_precipitation      2\n",
      "hour_bef_windspeed          9\n",
      "hour_bef_humidity           2\n",
      "hour_bef_visibility         2\n",
      "hour_bef_ozone             76\n",
      "hour_bef_pm10              90\n",
      "hour_bef_pm2.5            117\n",
      "count                       0\n",
      "dtype: int64\n",
      "[ Test data' NaN ]\n",
      "id                         0\n",
      "hour                       0\n",
      "hour_bef_temperature       1\n",
      "hour_bef_precipitation     1\n",
      "hour_bef_windspeed         1\n",
      "hour_bef_humidity          1\n",
      "hour_bef_visibility        1\n",
      "hour_bef_ozone            35\n",
      "hour_bef_pm10             37\n",
      "hour_bef_pm2.5            36\n",
      "dtype: int64\n"
     ]
    }
   ],
   "source": [
    "# 1\n",
    "print('[ Train data\\' NaN ]')\n",
    "print(train.isnull().sum())\n",
    "\n",
    "print('[ Test data\\' NaN ]')\n",
    "print(test.isnull().sum())"
   ]
  },
  {
   "cell_type": "code",
   "execution_count": 6,
   "id": "a91b4fb7",
   "metadata": {},
   "outputs": [],
   "source": [
    "# 2\n",
    "# NaN 존재 - train feature : 8개, test는 나중에 처리하나?\n",
    "train.fillna({'hour_bef_temperature':int(train['hour_bef_temperature'].mean())}, inplace=True)\n",
    "train.fillna({'hour_bef_precipitation':int(train['hour_bef_precipitation'].mean())}, inplace=True)\n",
    "train.fillna({'hour_bef_windspeed':int(train['hour_bef_windspeed'].mean())}, inplace=True)\n",
    "train.fillna({'hour_bef_humidity':int(train['hour_bef_humidity'].mean())}, inplace=True)\n",
    "train.fillna({'hour_bef_visibility':int(train['hour_bef_visibility'].mean())}, inplace=True)\n",
    "train.fillna({'hour_bef_ozone':int(train['hour_bef_ozone'].mean())}, inplace=True)\n",
    "train.fillna({'hour_bef_pm10':int(train['hour_bef_pm10'].mean())}, inplace=True)\n",
    "train.fillna({'hour_bef_pm2.5':int(train['hour_bef_pm2.5'].mean())}, inplace=True)\n"
   ]
  },
  {
   "cell_type": "code",
   "execution_count": 7,
   "id": "46d9bb5a",
   "metadata": {},
   "outputs": [
    {
     "name": "stdout",
     "output_type": "stream",
     "text": [
      "id                        0\n",
      "hour                      0\n",
      "hour_bef_temperature      0\n",
      "hour_bef_precipitation    0\n",
      "hour_bef_windspeed        0\n",
      "hour_bef_humidity         0\n",
      "hour_bef_visibility       0\n",
      "hour_bef_ozone            0\n",
      "hour_bef_pm10             0\n",
      "hour_bef_pm2.5            0\n",
      "count                     0\n",
      "dtype: int64\n"
     ]
    }
   ],
   "source": [
    "# 결과 확인\n",
    "print(train.isnull().sum())"
   ]
  },
  {
   "cell_type": "code",
   "execution_count": 8,
   "id": "233c3d15",
   "metadata": {},
   "outputs": [],
   "source": [
    "# NaN 존재 - test feature : 8개\n",
    "test.fillna({'hour_bef_temperature':int(test['hour_bef_temperature'].mean())}, inplace=True)\n",
    "test.fillna({'hour_bef_precipitation':int(test['hour_bef_precipitation'].mean())}, inplace=True)\n",
    "test.fillna({'hour_bef_windspeed':int(test['hour_bef_windspeed'].mean())}, inplace=True)\n",
    "test.fillna({'hour_bef_humidity':int(test['hour_bef_humidity'].mean())}, inplace=True)\n",
    "test.fillna({'hour_bef_visibility':int(test['hour_bef_visibility'].mean())}, inplace=True)\n",
    "test.fillna({'hour_bef_ozone':int(test['hour_bef_ozone'].mean())}, inplace=True)\n",
    "test.fillna({'hour_bef_pm10':int(test['hour_bef_pm10'].mean())}, inplace=True)\n",
    "test.fillna({'hour_bef_pm2.5':int(test['hour_bef_pm2.5'].mean())}, inplace=True)\n"
   ]
  },
  {
   "cell_type": "code",
   "execution_count": 9,
   "id": "15c5caac",
   "metadata": {},
   "outputs": [
    {
     "name": "stdout",
     "output_type": "stream",
     "text": [
      "id                        0\n",
      "hour                      0\n",
      "hour_bef_temperature      0\n",
      "hour_bef_precipitation    0\n",
      "hour_bef_windspeed        0\n",
      "hour_bef_humidity         0\n",
      "hour_bef_visibility       0\n",
      "hour_bef_ozone            0\n",
      "hour_bef_pm10             0\n",
      "hour_bef_pm2.5            0\n",
      "dtype: int64\n"
     ]
    }
   ],
   "source": [
    "print(test.isnull().sum())"
   ]
  },
  {
   "cell_type": "markdown",
   "id": "d64523e6",
   "metadata": {},
   "source": [
    "#### 결측치 처리 - 보간법 : `interpolate`\n",
    "0. `보간법` - 각 피쳐의 `정보성을 강조`\n",
    "    - 따릉이 데이터' 피쳐 : 기상정보(시간순)\n",
    "    - sol. 결측치 바로 전후 데이터의 평균으로 보간\n",
    "    \n",
    "    \n",
    "1. 결측치가 있는 피쳐 탐색(체크)\n",
    "2. 결측치를 보간법으로 대체"
   ]
  },
  {
   "cell_type": "code",
   "execution_count": 11,
   "id": "eecc6243",
   "metadata": {},
   "outputs": [
    {
     "name": "stdout",
     "output_type": "stream",
     "text": [
      "id                          0\n",
      "hour                        0\n",
      "hour_bef_temperature        2\n",
      "hour_bef_precipitation      2\n",
      "hour_bef_windspeed          9\n",
      "hour_bef_humidity           2\n",
      "hour_bef_visibility         2\n",
      "hour_bef_ozone             76\n",
      "hour_bef_pm10              90\n",
      "hour_bef_pm2.5            117\n",
      "count                       0\n",
      "dtype: int64\n",
      "\n",
      "id                         0\n",
      "hour                       0\n",
      "hour_bef_temperature       1\n",
      "hour_bef_precipitation     1\n",
      "hour_bef_windspeed         1\n",
      "hour_bef_humidity          1\n",
      "hour_bef_visibility        1\n",
      "hour_bef_ozone            35\n",
      "hour_bef_pm10             37\n",
      "hour_bef_pm2.5            36\n",
      "dtype: int64\n"
     ]
    }
   ],
   "source": [
    "# init\n",
    "train = pd.read_csv('../data/따릉이/train.csv')\n",
    "test = pd.read_csv('../data/따릉이/test.csv')\n",
    "\n",
    "# 1\n",
    "print(train.isnull().sum())\n",
    "print()\n",
    "print(test.isnull().sum())"
   ]
  },
  {
   "cell_type": "code",
   "execution_count": 12,
   "id": "eeab7e7d",
   "metadata": {},
   "outputs": [],
   "source": [
    "# 2: 결측치 이전 행과 다음 행의 평균으로 대체 보간하기\n",
    "train.interpolate(inplace=True)\n",
    "test.interpolate(inplace=True)"
   ]
  },
  {
   "cell_type": "code",
   "execution_count": 13,
   "id": "3e6178b1",
   "metadata": {},
   "outputs": [
    {
     "name": "stdout",
     "output_type": "stream",
     "text": [
      "id                        0\n",
      "hour                      0\n",
      "hour_bef_temperature      0\n",
      "hour_bef_precipitation    0\n",
      "hour_bef_windspeed        0\n",
      "hour_bef_humidity         0\n",
      "hour_bef_visibility       0\n",
      "hour_bef_ozone            0\n",
      "hour_bef_pm10             0\n",
      "hour_bef_pm2.5            0\n",
      "count                     0\n",
      "dtype: int64\n",
      "\n",
      "id                        0\n",
      "hour                      0\n",
      "hour_bef_temperature      0\n",
      "hour_bef_precipitation    0\n",
      "hour_bef_windspeed        0\n",
      "hour_bef_humidity         0\n",
      "hour_bef_visibility       0\n",
      "hour_bef_ozone            0\n",
      "hour_bef_pm10             0\n",
      "hour_bef_pm2.5            0\n",
      "dtype: int64\n"
     ]
    }
   ],
   "source": [
    "print(train.isnull().sum())\n",
    "print()\n",
    "print(test.isnull().sum())"
   ]
  },
  {
   "cell_type": "markdown",
   "id": "67521486",
   "metadata": {},
   "source": [
    "# Modeling"
   ]
  },
  {
   "cell_type": "markdown",
   "id": "4368810e",
   "metadata": {},
   "source": [
    "#### **Ensemble - RandomForest**\n",
    "\n",
    "여러 개의 의사결정트리를 만들고 이들의 평균으로 예측의 성능을 높이는 방법\n",
    "\n",
    "하나의 데이터 - 여러 개의 렌덤 데이터셋 추출 + 모델 생성 가능"
   ]
  },
  {
   "cell_type": "code",
   "execution_count": 15,
   "id": "e7e4e9c3",
   "metadata": {},
   "outputs": [],
   "source": [
    "# Model Declaration\n",
    "\n",
    "from sklearn.ensemble import RandomForestRegressor\n",
    "#model = RandomForestRegressor()"
   ]
  },
  {
   "cell_type": "markdown",
   "id": "dcda79f7",
   "metadata": {},
   "source": [
    "#### Training - **모델 평가** 척도 : `criterion`\n",
    "`RMSE` : `MSE`(평균제곱오차)에 `루트`를 씌운 것\n",
    "  - `criterion= 'mse'`로 구현 가능"
   ]
  },
  {
   "cell_type": "code",
   "execution_count": 16,
   "id": "c93e25fc",
   "metadata": {},
   "outputs": [
    {
     "data": {
      "text/plain": [
       "RandomForestRegressor()"
      ]
     },
     "execution_count": 16,
     "metadata": {},
     "output_type": "execute_result"
    }
   ],
   "source": [
    "# Set Dataset\n",
    "\n",
    "X_train = train.drop(['count'], axis=1)\n",
    "Y_train = train['count']\n",
    "\n",
    "\n",
    "# Training\n",
    "\n",
    "model = RandomForestRegressor(criterion= 'mse') #RMSE\n",
    "model.fit(X_train, Y_train)"
   ]
  },
  {
   "cell_type": "code",
   "execution_count": null,
   "id": "5a99743c",
   "metadata": {},
   "outputs": [],
   "source": []
  }
 ],
 "metadata": {
  "kernelspec": {
   "display_name": "Python 3",
   "language": "python",
   "name": "python3"
  },
  "language_info": {
   "codemirror_mode": {
    "name": "ipython",
    "version": 3
   },
   "file_extension": ".py",
   "mimetype": "text/x-python",
   "name": "python",
   "nbconvert_exporter": "python",
   "pygments_lexer": "ipython3",
   "version": "3.8.8"
  }
 },
 "nbformat": 4,
 "nbformat_minor": 5
}
