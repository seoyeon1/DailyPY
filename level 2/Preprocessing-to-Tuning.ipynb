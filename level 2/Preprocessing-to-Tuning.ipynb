{
 "cells": [
  {
   "cell_type": "markdown",
   "id": "12bd3938",
   "metadata": {},
   "source": [
    "# Preprocessing"
   ]
  },
  {
   "cell_type": "markdown",
   "id": "edceceb3",
   "metadata": {},
   "source": [
    "데이터 불러오기"
   ]
  },
  {
   "cell_type": "code",
   "execution_count": 1,
   "id": "fdf5d070",
   "metadata": {},
   "outputs": [],
   "source": [
    "import pandas as pd\n",
    "\n",
    "train = pd.read_csv('../data/따릉이/train.csv')\n",
    "test = pd.read_csv('../data/따릉이/test.csv')"
   ]
  },
  {
   "cell_type": "markdown",
   "id": "028fe337",
   "metadata": {},
   "source": [
    "#### 결측치 처리 - 대체 평균 : mean\n",
    "1. 결측치가 있는 피쳐 탐색(체크)\n",
    "2. 결측치를 각 피쳐의 평균값으로 대체"
   ]
  },
  {
   "cell_type": "code",
   "execution_count": 5,
   "id": "2dd9c584",
   "metadata": {},
   "outputs": [
    {
     "name": "stdout",
     "output_type": "stream",
     "text": [
      "[ Train data' NaN ]\n",
      "id                          0\n",
      "hour                        0\n",
      "hour_bef_temperature        2\n",
      "hour_bef_precipitation      2\n",
      "hour_bef_windspeed          9\n",
      "hour_bef_humidity           2\n",
      "hour_bef_visibility         2\n",
      "hour_bef_ozone             76\n",
      "hour_bef_pm10              90\n",
      "hour_bef_pm2.5            117\n",
      "count                       0\n",
      "dtype: int64\n",
      "[ Test data' NaN ]\n",
      "id                         0\n",
      "hour                       0\n",
      "hour_bef_temperature       1\n",
      "hour_bef_precipitation     1\n",
      "hour_bef_windspeed         1\n",
      "hour_bef_humidity          1\n",
      "hour_bef_visibility        1\n",
      "hour_bef_ozone            35\n",
      "hour_bef_pm10             37\n",
      "hour_bef_pm2.5            36\n",
      "dtype: int64\n"
     ]
    }
   ],
   "source": [
    "# 1\n",
    "print('[ Train data\\' NaN ]')\n",
    "print(train.isnull().sum())\n",
    "\n",
    "print('[ Test data\\' NaN ]')\n",
    "print(test.isnull().sum())"
   ]
  },
  {
   "cell_type": "code",
   "execution_count": 6,
   "id": "615bb1b8",
   "metadata": {},
   "outputs": [],
   "source": [
    "# 2\n",
    "# NaN 존재 - train feature : 8개, test는 나중에 처리하나?\n",
    "train.fillna({'hour_bef_temperature':int(train['hour_bef_temperature'].mean())}, inplace=True)\n",
    "train.fillna({'hour_bef_precipitation':int(train['hour_bef_precipitation'].mean())}, inplace=True)\n",
    "train.fillna({'hour_bef_windspeed':int(train['hour_bef_windspeed'].mean())}, inplace=True)\n",
    "train.fillna({'hour_bef_humidity':int(train['hour_bef_humidity'].mean())}, inplace=True)\n",
    "train.fillna({'hour_bef_visibility':int(train['hour_bef_visibility'].mean())}, inplace=True)\n",
    "train.fillna({'hour_bef_ozone':int(train['hour_bef_ozone'].mean())}, inplace=True)\n",
    "train.fillna({'hour_bef_pm10':int(train['hour_bef_pm10'].mean())}, inplace=True)\n",
    "train.fillna({'hour_bef_pm2.5':int(train['hour_bef_pm2.5'].mean())}, inplace=True)\n"
   ]
  },
  {
   "cell_type": "code",
   "execution_count": 7,
   "id": "b9141aba",
   "metadata": {},
   "outputs": [
    {
     "name": "stdout",
     "output_type": "stream",
     "text": [
      "id                        0\n",
      "hour                      0\n",
      "hour_bef_temperature      0\n",
      "hour_bef_precipitation    0\n",
      "hour_bef_windspeed        0\n",
      "hour_bef_humidity         0\n",
      "hour_bef_visibility       0\n",
      "hour_bef_ozone            0\n",
      "hour_bef_pm10             0\n",
      "hour_bef_pm2.5            0\n",
      "count                     0\n",
      "dtype: int64\n"
     ]
    }
   ],
   "source": [
    "# 결과 확인\n",
    "print(train.isnull().sum())"
   ]
  },
  {
   "cell_type": "code",
   "execution_count": 8,
   "id": "2d95e96b",
   "metadata": {},
   "outputs": [],
   "source": [
    "# NaN 존재 - test feature : 8개\n",
    "test.fillna({'hour_bef_temperature':int(test['hour_bef_temperature'].mean())}, inplace=True)\n",
    "test.fillna({'hour_bef_precipitation':int(test['hour_bef_precipitation'].mean())}, inplace=True)\n",
    "test.fillna({'hour_bef_windspeed':int(test['hour_bef_windspeed'].mean())}, inplace=True)\n",
    "test.fillna({'hour_bef_humidity':int(test['hour_bef_humidity'].mean())}, inplace=True)\n",
    "test.fillna({'hour_bef_visibility':int(test['hour_bef_visibility'].mean())}, inplace=True)\n",
    "test.fillna({'hour_bef_ozone':int(test['hour_bef_ozone'].mean())}, inplace=True)\n",
    "test.fillna({'hour_bef_pm10':int(test['hour_bef_pm10'].mean())}, inplace=True)\n",
    "test.fillna({'hour_bef_pm2.5':int(test['hour_bef_pm2.5'].mean())}, inplace=True)\n"
   ]
  },
  {
   "cell_type": "code",
   "execution_count": 9,
   "id": "1d5750c9",
   "metadata": {},
   "outputs": [
    {
     "name": "stdout",
     "output_type": "stream",
     "text": [
      "id                        0\n",
      "hour                      0\n",
      "hour_bef_temperature      0\n",
      "hour_bef_precipitation    0\n",
      "hour_bef_windspeed        0\n",
      "hour_bef_humidity         0\n",
      "hour_bef_visibility       0\n",
      "hour_bef_ozone            0\n",
      "hour_bef_pm10             0\n",
      "hour_bef_pm2.5            0\n",
      "dtype: int64\n"
     ]
    }
   ],
   "source": [
    "print(test.isnull().sum())"
   ]
  },
  {
   "cell_type": "code",
   "execution_count": null,
   "id": "008c26fb",
   "metadata": {},
   "outputs": [],
   "source": []
  }
 ],
 "metadata": {
  "kernelspec": {
   "display_name": "Python 3",
   "language": "python",
   "name": "python3"
  },
  "language_info": {
   "codemirror_mode": {
    "name": "ipython",
    "version": 3
   },
   "file_extension": ".py",
   "mimetype": "text/x-python",
   "name": "python",
   "nbconvert_exporter": "python",
   "pygments_lexer": "ipython3",
   "version": "3.8.8"
  }
 },
 "nbformat": 4,
 "nbformat_minor": 5
}
