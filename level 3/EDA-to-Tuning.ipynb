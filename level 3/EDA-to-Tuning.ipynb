{
 "cells": [
  {
   "cell_type": "markdown",
   "id": "6262908c",
   "metadata": {},
   "source": [
    "# EDA"
   ]
  },
  {
   "cell_type": "markdown",
   "id": "be2992d2",
   "metadata": {},
   "source": [
    " 1. 데이터 불러오기\n",
    " 2. 데이터 정보 관측하기\n",
    " 3. 데이터 크기 파악하기\n",
    " 4. 데이터 피쳐 알아보기"
   ]
  },
  {
   "cell_type": "code",
   "execution_count": 48,
   "id": "18c682c1",
   "metadata": {},
   "outputs": [],
   "source": [
    "# 0. 라이브러리 불러오기\n",
    "import pandas as pd"
   ]
  },
  {
   "cell_type": "code",
   "execution_count": 12,
   "id": "8e7115d6",
   "metadata": {},
   "outputs": [
    {
     "name": "stdout",
     "output_type": "stream",
     "text": [
      "train data 확인\n",
      "<class 'pandas.core.frame.DataFrame'>\n",
      "RangeIndex: 5497 entries, 0 to 5496\n",
      "Data columns (total 14 columns):\n",
      " #   Column                Non-Null Count  Dtype  \n",
      "---  ------                --------------  -----  \n",
      " 0   index                 5497 non-null   int64  \n",
      " 1   quality               5497 non-null   int64  \n",
      " 2   fixed acidity         5497 non-null   float64\n",
      " 3   volatile acidity      5497 non-null   float64\n",
      " 4   citric acid           5497 non-null   float64\n",
      " 5   residual sugar        5497 non-null   float64\n",
      " 6   chlorides             5497 non-null   float64\n",
      " 7   free sulfur dioxide   5497 non-null   float64\n",
      " 8   total sulfur dioxide  5497 non-null   float64\n",
      " 9   density               5497 non-null   float64\n",
      " 10  pH                    5497 non-null   float64\n",
      " 11  sulphates             5497 non-null   float64\n",
      " 12  alcohol               5497 non-null   float64\n",
      " 13  type                  5497 non-null   object \n",
      "dtypes: float64(11), int64(2), object(1)\n",
      "memory usage: 601.4+ KB\n",
      "train data shape? : (5497, 14)\n",
      "test data shape? : (1000, 13)\n",
      "train data 속 각 칼럼의 정보 확인\n"
     ]
    },
    {
     "data": {
      "text/html": [
       "<div>\n",
       "<style scoped>\n",
       "    .dataframe tbody tr th:only-of-type {\n",
       "        vertical-align: middle;\n",
       "    }\n",
       "\n",
       "    .dataframe tbody tr th {\n",
       "        vertical-align: top;\n",
       "    }\n",
       "\n",
       "    .dataframe thead th {\n",
       "        text-align: right;\n",
       "    }\n",
       "</style>\n",
       "<table border=\"1\" class=\"dataframe\">\n",
       "  <thead>\n",
       "    <tr style=\"text-align: right;\">\n",
       "      <th></th>\n",
       "      <th>index</th>\n",
       "      <th>quality</th>\n",
       "      <th>fixed acidity</th>\n",
       "      <th>volatile acidity</th>\n",
       "      <th>citric acid</th>\n",
       "      <th>residual sugar</th>\n",
       "      <th>chlorides</th>\n",
       "      <th>free sulfur dioxide</th>\n",
       "      <th>total sulfur dioxide</th>\n",
       "      <th>density</th>\n",
       "      <th>pH</th>\n",
       "      <th>sulphates</th>\n",
       "      <th>alcohol</th>\n",
       "      <th>type</th>\n",
       "    </tr>\n",
       "  </thead>\n",
       "  <tbody>\n",
       "    <tr>\n",
       "      <th>0</th>\n",
       "      <td>0</td>\n",
       "      <td>5</td>\n",
       "      <td>5.6</td>\n",
       "      <td>0.695</td>\n",
       "      <td>0.06</td>\n",
       "      <td>6.8</td>\n",
       "      <td>0.042</td>\n",
       "      <td>9.0</td>\n",
       "      <td>84.0</td>\n",
       "      <td>0.99432</td>\n",
       "      <td>3.44</td>\n",
       "      <td>0.44</td>\n",
       "      <td>10.2</td>\n",
       "      <td>white</td>\n",
       "    </tr>\n",
       "    <tr>\n",
       "      <th>1</th>\n",
       "      <td>1</td>\n",
       "      <td>5</td>\n",
       "      <td>8.8</td>\n",
       "      <td>0.610</td>\n",
       "      <td>0.14</td>\n",
       "      <td>2.4</td>\n",
       "      <td>0.067</td>\n",
       "      <td>10.0</td>\n",
       "      <td>42.0</td>\n",
       "      <td>0.99690</td>\n",
       "      <td>3.19</td>\n",
       "      <td>0.59</td>\n",
       "      <td>9.5</td>\n",
       "      <td>red</td>\n",
       "    </tr>\n",
       "    <tr>\n",
       "      <th>2</th>\n",
       "      <td>2</td>\n",
       "      <td>5</td>\n",
       "      <td>7.9</td>\n",
       "      <td>0.210</td>\n",
       "      <td>0.39</td>\n",
       "      <td>2.0</td>\n",
       "      <td>0.057</td>\n",
       "      <td>21.0</td>\n",
       "      <td>138.0</td>\n",
       "      <td>0.99176</td>\n",
       "      <td>3.05</td>\n",
       "      <td>0.52</td>\n",
       "      <td>10.9</td>\n",
       "      <td>white</td>\n",
       "    </tr>\n",
       "    <tr>\n",
       "      <th>3</th>\n",
       "      <td>3</td>\n",
       "      <td>6</td>\n",
       "      <td>7.0</td>\n",
       "      <td>0.210</td>\n",
       "      <td>0.31</td>\n",
       "      <td>6.0</td>\n",
       "      <td>0.046</td>\n",
       "      <td>29.0</td>\n",
       "      <td>108.0</td>\n",
       "      <td>0.99390</td>\n",
       "      <td>3.26</td>\n",
       "      <td>0.50</td>\n",
       "      <td>10.8</td>\n",
       "      <td>white</td>\n",
       "    </tr>\n",
       "    <tr>\n",
       "      <th>4</th>\n",
       "      <td>4</td>\n",
       "      <td>6</td>\n",
       "      <td>7.8</td>\n",
       "      <td>0.400</td>\n",
       "      <td>0.26</td>\n",
       "      <td>9.5</td>\n",
       "      <td>0.059</td>\n",
       "      <td>32.0</td>\n",
       "      <td>178.0</td>\n",
       "      <td>0.99550</td>\n",
       "      <td>3.04</td>\n",
       "      <td>0.43</td>\n",
       "      <td>10.9</td>\n",
       "      <td>white</td>\n",
       "    </tr>\n",
       "  </tbody>\n",
       "</table>\n",
       "</div>"
      ],
      "text/plain": [
       "   index  quality  fixed acidity  volatile acidity  citric acid  \\\n",
       "0      0        5            5.6             0.695         0.06   \n",
       "1      1        5            8.8             0.610         0.14   \n",
       "2      2        5            7.9             0.210         0.39   \n",
       "3      3        6            7.0             0.210         0.31   \n",
       "4      4        6            7.8             0.400         0.26   \n",
       "\n",
       "   residual sugar  chlorides  free sulfur dioxide  total sulfur dioxide  \\\n",
       "0             6.8      0.042                  9.0                  84.0   \n",
       "1             2.4      0.067                 10.0                  42.0   \n",
       "2             2.0      0.057                 21.0                 138.0   \n",
       "3             6.0      0.046                 29.0                 108.0   \n",
       "4             9.5      0.059                 32.0                 178.0   \n",
       "\n",
       "   density    pH  sulphates  alcohol   type  \n",
       "0  0.99432  3.44       0.44     10.2  white  \n",
       "1  0.99690  3.19       0.59      9.5    red  \n",
       "2  0.99176  3.05       0.52     10.9  white  \n",
       "3  0.99390  3.26       0.50     10.8  white  \n",
       "4  0.99550  3.04       0.43     10.9  white  "
      ]
     },
     "execution_count": 12,
     "metadata": {},
     "output_type": "execute_result"
    }
   ],
   "source": [
    "# 1 ~ 4\n",
    "# csv파일을 df으로 불러오기\n",
    "train = pd.read_csv('../data/와인/train.csv')\n",
    "test = pd.read_csv('../data/와인/test.csv')\n",
    "\n",
    "\n",
    "print('train data 확인')\n",
    "train.info()\n",
    "\n",
    "# 행, 열 확인\n",
    "print('train data shape? :',train.shape)\n",
    "print('test data shape? :',test.shape)\n",
    "\n",
    "print('train data 속 각 칼럼의 정보 확인')\n",
    "train.head()"
   ]
  },
  {
   "cell_type": "markdown",
   "id": "721a7270",
   "metadata": {},
   "source": [
    "#### 결측치 유무 확인\n",
    "\n",
    "다행히 train, test데이터 모두 결측치가 존재하진 않음"
   ]
  },
  {
   "cell_type": "code",
   "execution_count": 13,
   "id": "22647832",
   "metadata": {},
   "outputs": [
    {
     "data": {
      "text/plain": [
       "index                   0\n",
       "quality                 0\n",
       "fixed acidity           0\n",
       "volatile acidity        0\n",
       "citric acid             0\n",
       "residual sugar          0\n",
       "chlorides               0\n",
       "free sulfur dioxide     0\n",
       "total sulfur dioxide    0\n",
       "density                 0\n",
       "pH                      0\n",
       "sulphates               0\n",
       "alcohol                 0\n",
       "type                    0\n",
       "dtype: int64"
      ]
     },
     "execution_count": 13,
     "metadata": {},
     "output_type": "execute_result"
    }
   ],
   "source": [
    "train.isnull().sum()"
   ]
  },
  {
   "cell_type": "code",
   "execution_count": 14,
   "id": "af673e07",
   "metadata": {},
   "outputs": [
    {
     "data": {
      "text/plain": [
       "index                   0\n",
       "fixed acidity           0\n",
       "volatile acidity        0\n",
       "citric acid             0\n",
       "residual sugar          0\n",
       "chlorides               0\n",
       "free sulfur dioxide     0\n",
       "total sulfur dioxide    0\n",
       "density                 0\n",
       "pH                      0\n",
       "sulphates               0\n",
       "alcohol                 0\n",
       "type                    0\n",
       "dtype: int64"
      ]
     },
     "execution_count": 14,
     "metadata": {},
     "output_type": "execute_result"
    }
   ],
   "source": [
    "test.isnull().sum()"
   ]
  },
  {
   "cell_type": "markdown",
   "id": "9e6ca030",
   "metadata": {},
   "source": [
    "#### 수치형 데이터 요약하기 : `describe()`\n",
    "\n",
    "다양한 통계량을 요약하주는 메서드. 데이터프레임 각 열(only 수치형 데이터)에 대해 요약이 수행\n",
    "\n",
    "**describe에서 제공하는 통계량**\n",
    "- count, mean, std, min, 1분위수, 2분위수, 3분위수, max"
   ]
  },
  {
   "cell_type": "code",
   "execution_count": 15,
   "id": "20f2fc9c",
   "metadata": {},
   "outputs": [
    {
     "data": {
      "text/html": [
       "<div>\n",
       "<style scoped>\n",
       "    .dataframe tbody tr th:only-of-type {\n",
       "        vertical-align: middle;\n",
       "    }\n",
       "\n",
       "    .dataframe tbody tr th {\n",
       "        vertical-align: top;\n",
       "    }\n",
       "\n",
       "    .dataframe thead th {\n",
       "        text-align: right;\n",
       "    }\n",
       "</style>\n",
       "<table border=\"1\" class=\"dataframe\">\n",
       "  <thead>\n",
       "    <tr style=\"text-align: right;\">\n",
       "      <th></th>\n",
       "      <th>index</th>\n",
       "      <th>quality</th>\n",
       "      <th>fixed acidity</th>\n",
       "      <th>volatile acidity</th>\n",
       "      <th>citric acid</th>\n",
       "      <th>residual sugar</th>\n",
       "      <th>chlorides</th>\n",
       "      <th>free sulfur dioxide</th>\n",
       "      <th>total sulfur dioxide</th>\n",
       "      <th>density</th>\n",
       "      <th>pH</th>\n",
       "      <th>sulphates</th>\n",
       "      <th>alcohol</th>\n",
       "    </tr>\n",
       "  </thead>\n",
       "  <tbody>\n",
       "    <tr>\n",
       "      <th>count</th>\n",
       "      <td>5497.000000</td>\n",
       "      <td>5497.000000</td>\n",
       "      <td>5497.000000</td>\n",
       "      <td>5497.000000</td>\n",
       "      <td>5497.000000</td>\n",
       "      <td>5497.000000</td>\n",
       "      <td>5497.000000</td>\n",
       "      <td>5497.000000</td>\n",
       "      <td>5497.000000</td>\n",
       "      <td>5497.000000</td>\n",
       "      <td>5497.000000</td>\n",
       "      <td>5497.000000</td>\n",
       "      <td>5497.000000</td>\n",
       "    </tr>\n",
       "    <tr>\n",
       "      <th>mean</th>\n",
       "      <td>2748.000000</td>\n",
       "      <td>5.818992</td>\n",
       "      <td>7.210115</td>\n",
       "      <td>0.338163</td>\n",
       "      <td>0.318543</td>\n",
       "      <td>5.438075</td>\n",
       "      <td>0.055808</td>\n",
       "      <td>30.417682</td>\n",
       "      <td>115.566491</td>\n",
       "      <td>0.994673</td>\n",
       "      <td>3.219502</td>\n",
       "      <td>0.530524</td>\n",
       "      <td>10.504918</td>\n",
       "    </tr>\n",
       "    <tr>\n",
       "      <th>std</th>\n",
       "      <td>1586.991546</td>\n",
       "      <td>0.870311</td>\n",
       "      <td>1.287579</td>\n",
       "      <td>0.163224</td>\n",
       "      <td>0.145104</td>\n",
       "      <td>4.756676</td>\n",
       "      <td>0.034653</td>\n",
       "      <td>17.673881</td>\n",
       "      <td>56.288223</td>\n",
       "      <td>0.003014</td>\n",
       "      <td>0.160713</td>\n",
       "      <td>0.149396</td>\n",
       "      <td>1.194524</td>\n",
       "    </tr>\n",
       "    <tr>\n",
       "      <th>min</th>\n",
       "      <td>0.000000</td>\n",
       "      <td>3.000000</td>\n",
       "      <td>3.800000</td>\n",
       "      <td>0.080000</td>\n",
       "      <td>0.000000</td>\n",
       "      <td>0.600000</td>\n",
       "      <td>0.009000</td>\n",
       "      <td>1.000000</td>\n",
       "      <td>6.000000</td>\n",
       "      <td>0.987110</td>\n",
       "      <td>2.740000</td>\n",
       "      <td>0.220000</td>\n",
       "      <td>8.000000</td>\n",
       "    </tr>\n",
       "    <tr>\n",
       "      <th>25%</th>\n",
       "      <td>1374.000000</td>\n",
       "      <td>5.000000</td>\n",
       "      <td>6.400000</td>\n",
       "      <td>0.230000</td>\n",
       "      <td>0.250000</td>\n",
       "      <td>1.800000</td>\n",
       "      <td>0.038000</td>\n",
       "      <td>17.000000</td>\n",
       "      <td>78.000000</td>\n",
       "      <td>0.992300</td>\n",
       "      <td>3.110000</td>\n",
       "      <td>0.430000</td>\n",
       "      <td>9.500000</td>\n",
       "    </tr>\n",
       "    <tr>\n",
       "      <th>50%</th>\n",
       "      <td>2748.000000</td>\n",
       "      <td>6.000000</td>\n",
       "      <td>7.000000</td>\n",
       "      <td>0.290000</td>\n",
       "      <td>0.310000</td>\n",
       "      <td>3.000000</td>\n",
       "      <td>0.047000</td>\n",
       "      <td>29.000000</td>\n",
       "      <td>118.000000</td>\n",
       "      <td>0.994800</td>\n",
       "      <td>3.210000</td>\n",
       "      <td>0.510000</td>\n",
       "      <td>10.300000</td>\n",
       "    </tr>\n",
       "    <tr>\n",
       "      <th>75%</th>\n",
       "      <td>4122.000000</td>\n",
       "      <td>6.000000</td>\n",
       "      <td>7.700000</td>\n",
       "      <td>0.400000</td>\n",
       "      <td>0.390000</td>\n",
       "      <td>8.100000</td>\n",
       "      <td>0.064000</td>\n",
       "      <td>41.000000</td>\n",
       "      <td>155.000000</td>\n",
       "      <td>0.996930</td>\n",
       "      <td>3.320000</td>\n",
       "      <td>0.600000</td>\n",
       "      <td>11.300000</td>\n",
       "    </tr>\n",
       "    <tr>\n",
       "      <th>max</th>\n",
       "      <td>5496.000000</td>\n",
       "      <td>9.000000</td>\n",
       "      <td>15.900000</td>\n",
       "      <td>1.580000</td>\n",
       "      <td>1.660000</td>\n",
       "      <td>65.800000</td>\n",
       "      <td>0.610000</td>\n",
       "      <td>289.000000</td>\n",
       "      <td>440.000000</td>\n",
       "      <td>1.038980</td>\n",
       "      <td>4.010000</td>\n",
       "      <td>2.000000</td>\n",
       "      <td>14.900000</td>\n",
       "    </tr>\n",
       "  </tbody>\n",
       "</table>\n",
       "</div>"
      ],
      "text/plain": [
       "             index      quality  fixed acidity  volatile acidity  citric acid  \\\n",
       "count  5497.000000  5497.000000    5497.000000       5497.000000  5497.000000   \n",
       "mean   2748.000000     5.818992       7.210115          0.338163     0.318543   \n",
       "std    1586.991546     0.870311       1.287579          0.163224     0.145104   \n",
       "min       0.000000     3.000000       3.800000          0.080000     0.000000   \n",
       "25%    1374.000000     5.000000       6.400000          0.230000     0.250000   \n",
       "50%    2748.000000     6.000000       7.000000          0.290000     0.310000   \n",
       "75%    4122.000000     6.000000       7.700000          0.400000     0.390000   \n",
       "max    5496.000000     9.000000      15.900000          1.580000     1.660000   \n",
       "\n",
       "       residual sugar    chlorides  free sulfur dioxide  total sulfur dioxide  \\\n",
       "count     5497.000000  5497.000000          5497.000000           5497.000000   \n",
       "mean         5.438075     0.055808            30.417682            115.566491   \n",
       "std          4.756676     0.034653            17.673881             56.288223   \n",
       "min          0.600000     0.009000             1.000000              6.000000   \n",
       "25%          1.800000     0.038000            17.000000             78.000000   \n",
       "50%          3.000000     0.047000            29.000000            118.000000   \n",
       "75%          8.100000     0.064000            41.000000            155.000000   \n",
       "max         65.800000     0.610000           289.000000            440.000000   \n",
       "\n",
       "           density           pH    sulphates      alcohol  \n",
       "count  5497.000000  5497.000000  5497.000000  5497.000000  \n",
       "mean      0.994673     3.219502     0.530524    10.504918  \n",
       "std       0.003014     0.160713     0.149396     1.194524  \n",
       "min       0.987110     2.740000     0.220000     8.000000  \n",
       "25%       0.992300     3.110000     0.430000     9.500000  \n",
       "50%       0.994800     3.210000     0.510000    10.300000  \n",
       "75%       0.996930     3.320000     0.600000    11.300000  \n",
       "max       1.038980     4.010000     2.000000    14.900000  "
      ]
     },
     "execution_count": 15,
     "metadata": {},
     "output_type": "execute_result"
    }
   ],
   "source": [
    "train.describe()"
   ]
  },
  {
   "cell_type": "markdown",
   "id": "5c94e75b",
   "metadata": {},
   "source": [
    "## EDA - **시각화**"
   ]
  },
  {
   "cell_type": "markdown",
   "id": "7b8b26e9",
   "metadata": {},
   "source": [
    "- 종속변수(quality) : 우리가 예측하고자 하는 변수\n",
    "- 시각화할 때는 복사본 생성 후 진행 : `copy()`"
   ]
  },
  {
   "cell_type": "markdown",
   "id": "2a67ded1",
   "metadata": {},
   "source": [
    "### matplotlib, seaborn 라이브러리\n",
    "종속변수 분포 시각화 > 머신러닝의 방향성 파악"
   ]
  },
  {
   "cell_type": "code",
   "execution_count": 16,
   "id": "b8845faa",
   "metadata": {},
   "outputs": [],
   "source": [
    "# 한글 글꼴 다운\n",
    "# !sudo apt-get install -y fonts-nanum\n",
    "# !sudo fc-cache -fv\n",
    "# !rm ~/.cache/matplotlib -rf"
   ]
  },
  {
   "cell_type": "code",
   "execution_count": 17,
   "id": "79dd5183",
   "metadata": {},
   "outputs": [],
   "source": [
    "import matplotlib\n",
    "import matplotlib.pyplot as plt\n",
    "import seaborn as sns\n",
    "\n",
    "# 결과 출력 설정\n",
    "%matplotlib inline\n",
    "\n",
    "plt.rc('font', family='NanumBarunGothic') # 글꼴\n",
    "plt.rc('axes', unicode_minus=False) # '-' 출력\n",
    "\n",
    "import warnings # 분석에 문제없는 경고 메시지 숨기기\n",
    "warnings.filterwarnings('ignore')\n"
   ]
  },
  {
   "cell_type": "code",
   "execution_count": 18,
   "id": "17de5dc9",
   "metadata": {},
   "outputs": [],
   "source": [
    "train = pd.read_csv('../data/와인/train.csv')"
   ]
  },
  {
   "cell_type": "code",
   "execution_count": 19,
   "id": "1fe1f910",
   "metadata": {},
   "outputs": [
    {
     "data": {
      "image/png": "[encoded data removed]",
      "text/plain": [
       "<Figure size 360x360 with 1 Axes>"
      ]
     },
     "metadata": {
      "needs_background": "light"
     },
     "output_type": "display_data"
    }
   ],
   "source": [
    "# 분석을 위해 학습용 데이터 복사\n",
    "traindata = train.copy()\n",
    "\n",
    "# 타겟 변수(와인 품질) 분포 시각화\n",
    "sns.displot(traindata['quality'], kde=False, bins=10)\n",
    "plt.axis([0,10,0,2500]) # [x 축 최솟값, x 축 최댓값, y 축 최솟값, y 축 최댓값]\n",
    "plt.title('wine quality') # 제목\n",
    "plt.show() # 그래프 그리기"
   ]
  },
  {
   "cell_type": "code",
   "execution_count": 20,
   "id": "2a822ce0",
   "metadata": {},
   "outputs": [
    {
     "data": {
      "image/png": "[encoded data removed]",
      "text/plain": [
       "<Figure size 432x288 with 1 Axes>"
      ]
     },
     "metadata": {
      "needs_background": "light"
     },
     "output_type": "display_data"
    }
   ],
   "source": [
    "# plot()\n",
    "\n",
    "x_values = [0,1,2,3,4]\n",
    "y_values = [0,1,4,9,16]\n",
    "\n",
    "plt.plot(x_values, y_values)\n",
    "plt.show()"
   ]
  },
  {
   "cell_type": "code",
   "execution_count": 21,
   "id": "5c9e153e",
   "metadata": {},
   "outputs": [
    {
     "data": {
      "image/png": "[encoded data removed]",
      "text/plain": [
       "<Figure size 432x288 with 1 Axes>"
      ]
     },
     "metadata": {
      "needs_background": "light"
     },
     "output_type": "display_data"
    }
   ],
   "source": [
    "# Histogram\n",
    "\n",
    "a = [1,2,3,3,3,4,4,4,4,5,5,5,5,6,6,7]\n",
    "\n",
    "plt.hist(a)\n",
    "plt.show()"
   ]
  },
  {
   "cell_type": "markdown",
   "id": "1364f269",
   "metadata": {},
   "source": [
    "-------"
   ]
  },
  {
   "cell_type": "markdown",
   "id": "7ead7feb",
   "metadata": {},
   "source": [
    "# Preprocessing"
   ]
  },
  {
   "cell_type": "markdown",
   "id": "2dced3c9",
   "metadata": {},
   "source": [
    "## 이상치 탐지 & 제거"
   ]
  },
  {
   "cell_type": "code",
   "execution_count": 22,
   "id": "660ac8c0",
   "metadata": {},
   "outputs": [
    {
     "data": {
      "text/plain": [
       "<AxesSubplot:>"
      ]
     },
     "execution_count": 22,
     "metadata": {},
     "output_type": "execute_result"
    },
    {
     "data": {
      "image/png": "[encoded data removed]",
      "text/plain": [
       "<Figure size 432x288 with 1 Axes>"
      ]
     },
     "metadata": {
      "needs_background": "light"
     },
     "output_type": "display_data"
    }
   ],
   "source": [
    "# IQR - boxplot()\n",
    "# 피쳐 'fixed acidity'의 이상치 확인\n",
    "sns.boxplot(data=train['fixed acidity'])"
   ]
  },
  {
   "attachments": {
    "image.png": {
     "image/png": "[encoded data removed]"
    }
   },
   "cell_type": "markdown",
   "id": "3e9f153b",
   "metadata": {},
   "source": [
    "### boxplot 분석\n",
    "![image.png](attachment:image.png)\n"
   ]
  },
  {
   "cell_type": "code",
   "execution_count": 26,
   "id": "6b614e1d",
   "metadata": {},
   "outputs": [],
   "source": [
    "# IQR로 이상치 제거\n",
    "import numpy as np\n",
    "\n",
    "quantile_25 = np.quantile(train['fixed acidity'], 0.25)\n",
    "quantile_75 = np.quantile(train['fixed acidity'], 0.75)\n",
    "IQR = quantile_75 - quantile_25 # 박스의 길이\n",
    "minimum = quantile_25 - 1.5 * IQR # 4 ~ 6 사이에 선\n",
    "maximum = quantile_75 + 1.5 * IQR # 8 ~ 10 사이에 선"
   ]
  },
  {
   "cell_type": "code",
   "execution_count": 27,
   "id": "bf90da32",
   "metadata": {},
   "outputs": [
    {
     "data": {
      "text/plain": [
       "(5203, 14)"
      ]
     },
     "execution_count": 27,
     "metadata": {},
     "output_type": "execute_result"
    }
   ],
   "source": [
    "train2 = train[(minimum <= train['fixed acidity']) & (train['fixed acidity'] <= maximum)]\n",
    "train2.shape"
   ]
  },
  {
   "cell_type": "code",
   "execution_count": 28,
   "id": "7e853ee1",
   "metadata": {},
   "outputs": [
    {
     "data": {
      "text/plain": [
       "294"
      ]
     },
     "execution_count": 28,
     "metadata": {},
     "output_type": "execute_result"
    }
   ],
   "source": [
    "# 이상치 개수 확인 : 294개의 이상치를 제거한 train2\n",
    "train.shape[0] - train2.shape[0]"
   ]
  },
  {
   "cell_type": "markdown",
   "id": "05cb8f84",
   "metadata": {},
   "source": [
    "## Nomalization"
   ]
  },
  {
   "cell_type": "markdown",
   "id": "f5af442d",
   "metadata": {},
   "source": [
    "`트리 기반 모델`(desion tree, random forest)들은 크고 작음으로 판단하기 때문에 숫자의 단위에 큰 영향을 받지 않지만\n",
    "<br>`평활 함수 모델`(logistic regression, lasso)들은 숫자의 크기와 단위에 영향을 많이 받음. \n",
    "<br><br>**`수치형 데이터 정규화`**를 통해 모든 모델에 어울리는 데이터를 만듦"
   ]
  },
  {
   "cell_type": "markdown",
   "id": "3517398c",
   "metadata": {},
   "source": [
    "## Scailing - **MinMaxScailer**"
   ]
  },
  {
   "cell_type": "code",
   "execution_count": 32,
   "id": "dd6e678e",
   "metadata": {},
   "outputs": [],
   "source": [
    "from sklearn.preprocessing import MinMaxScaler"
   ]
  },
  {
   "cell_type": "code",
   "execution_count": 29,
   "id": "46809dc3",
   "metadata": {},
   "outputs": [
    {
     "data": {
      "text/html": [
       "<div>\n",
       "<style scoped>\n",
       "    .dataframe tbody tr th:only-of-type {\n",
       "        vertical-align: middle;\n",
       "    }\n",
       "\n",
       "    .dataframe tbody tr th {\n",
       "        vertical-align: top;\n",
       "    }\n",
       "\n",
       "    .dataframe thead th {\n",
       "        text-align: right;\n",
       "    }\n",
       "</style>\n",
       "<table border=\"1\" class=\"dataframe\">\n",
       "  <thead>\n",
       "    <tr style=\"text-align: right;\">\n",
       "      <th></th>\n",
       "      <th>index</th>\n",
       "      <th>quality</th>\n",
       "      <th>fixed acidity</th>\n",
       "      <th>volatile acidity</th>\n",
       "      <th>citric acid</th>\n",
       "      <th>residual sugar</th>\n",
       "      <th>chlorides</th>\n",
       "      <th>free sulfur dioxide</th>\n",
       "      <th>total sulfur dioxide</th>\n",
       "      <th>density</th>\n",
       "      <th>pH</th>\n",
       "      <th>sulphates</th>\n",
       "      <th>alcohol</th>\n",
       "    </tr>\n",
       "  </thead>\n",
       "  <tbody>\n",
       "    <tr>\n",
       "      <th>count</th>\n",
       "      <td>5497.000000</td>\n",
       "      <td>5497.000000</td>\n",
       "      <td>5497.000000</td>\n",
       "      <td>5497.000000</td>\n",
       "      <td>5497.000000</td>\n",
       "      <td>5497.000000</td>\n",
       "      <td>5497.000000</td>\n",
       "      <td>5497.000000</td>\n",
       "      <td>5497.000000</td>\n",
       "      <td>5497.000000</td>\n",
       "      <td>5497.000000</td>\n",
       "      <td>5497.000000</td>\n",
       "      <td>5497.000000</td>\n",
       "    </tr>\n",
       "    <tr>\n",
       "      <th>mean</th>\n",
       "      <td>2748.000000</td>\n",
       "      <td>5.818992</td>\n",
       "      <td>7.210115</td>\n",
       "      <td>0.338163</td>\n",
       "      <td>0.318543</td>\n",
       "      <td>5.438075</td>\n",
       "      <td>0.055808</td>\n",
       "      <td>30.417682</td>\n",
       "      <td>115.566491</td>\n",
       "      <td>0.994673</td>\n",
       "      <td>3.219502</td>\n",
       "      <td>0.530524</td>\n",
       "      <td>10.504918</td>\n",
       "    </tr>\n",
       "    <tr>\n",
       "      <th>std</th>\n",
       "      <td>1586.991546</td>\n",
       "      <td>0.870311</td>\n",
       "      <td>1.287579</td>\n",
       "      <td>0.163224</td>\n",
       "      <td>0.145104</td>\n",
       "      <td>4.756676</td>\n",
       "      <td>0.034653</td>\n",
       "      <td>17.673881</td>\n",
       "      <td>56.288223</td>\n",
       "      <td>0.003014</td>\n",
       "      <td>0.160713</td>\n",
       "      <td>0.149396</td>\n",
       "      <td>1.194524</td>\n",
       "    </tr>\n",
       "    <tr>\n",
       "      <th>min</th>\n",
       "      <td>0.000000</td>\n",
       "      <td>3.000000</td>\n",
       "      <td>3.800000</td>\n",
       "      <td>0.080000</td>\n",
       "      <td>0.000000</td>\n",
       "      <td>0.600000</td>\n",
       "      <td>0.009000</td>\n",
       "      <td>1.000000</td>\n",
       "      <td>6.000000</td>\n",
       "      <td>0.987110</td>\n",
       "      <td>2.740000</td>\n",
       "      <td>0.220000</td>\n",
       "      <td>8.000000</td>\n",
       "    </tr>\n",
       "    <tr>\n",
       "      <th>25%</th>\n",
       "      <td>1374.000000</td>\n",
       "      <td>5.000000</td>\n",
       "      <td>6.400000</td>\n",
       "      <td>0.230000</td>\n",
       "      <td>0.250000</td>\n",
       "      <td>1.800000</td>\n",
       "      <td>0.038000</td>\n",
       "      <td>17.000000</td>\n",
       "      <td>78.000000</td>\n",
       "      <td>0.992300</td>\n",
       "      <td>3.110000</td>\n",
       "      <td>0.430000</td>\n",
       "      <td>9.500000</td>\n",
       "    </tr>\n",
       "    <tr>\n",
       "      <th>50%</th>\n",
       "      <td>2748.000000</td>\n",
       "      <td>6.000000</td>\n",
       "      <td>7.000000</td>\n",
       "      <td>0.290000</td>\n",
       "      <td>0.310000</td>\n",
       "      <td>3.000000</td>\n",
       "      <td>0.047000</td>\n",
       "      <td>29.000000</td>\n",
       "      <td>118.000000</td>\n",
       "      <td>0.994800</td>\n",
       "      <td>3.210000</td>\n",
       "      <td>0.510000</td>\n",
       "      <td>10.300000</td>\n",
       "    </tr>\n",
       "    <tr>\n",
       "      <th>75%</th>\n",
       "      <td>4122.000000</td>\n",
       "      <td>6.000000</td>\n",
       "      <td>7.700000</td>\n",
       "      <td>0.400000</td>\n",
       "      <td>0.390000</td>\n",
       "      <td>8.100000</td>\n",
       "      <td>0.064000</td>\n",
       "      <td>41.000000</td>\n",
       "      <td>155.000000</td>\n",
       "      <td>0.996930</td>\n",
       "      <td>3.320000</td>\n",
       "      <td>0.600000</td>\n",
       "      <td>11.300000</td>\n",
       "    </tr>\n",
       "    <tr>\n",
       "      <th>max</th>\n",
       "      <td>5496.000000</td>\n",
       "      <td>9.000000</td>\n",
       "      <td>15.900000</td>\n",
       "      <td>1.580000</td>\n",
       "      <td>1.660000</td>\n",
       "      <td>65.800000</td>\n",
       "      <td>0.610000</td>\n",
       "      <td>289.000000</td>\n",
       "      <td>440.000000</td>\n",
       "      <td>1.038980</td>\n",
       "      <td>4.010000</td>\n",
       "      <td>2.000000</td>\n",
       "      <td>14.900000</td>\n",
       "    </tr>\n",
       "  </tbody>\n",
       "</table>\n",
       "</div>"
      ],
      "text/plain": [
       "             index      quality  fixed acidity  volatile acidity  citric acid  \\\n",
       "count  5497.000000  5497.000000    5497.000000       5497.000000  5497.000000   \n",
       "mean   2748.000000     5.818992       7.210115          0.338163     0.318543   \n",
       "std    1586.991546     0.870311       1.287579          0.163224     0.145104   \n",
       "min       0.000000     3.000000       3.800000          0.080000     0.000000   \n",
       "25%    1374.000000     5.000000       6.400000          0.230000     0.250000   \n",
       "50%    2748.000000     6.000000       7.000000          0.290000     0.310000   \n",
       "75%    4122.000000     6.000000       7.700000          0.400000     0.390000   \n",
       "max    5496.000000     9.000000      15.900000          1.580000     1.660000   \n",
       "\n",
       "       residual sugar    chlorides  free sulfur dioxide  total sulfur dioxide  \\\n",
       "count     5497.000000  5497.000000          5497.000000           5497.000000   \n",
       "mean         5.438075     0.055808            30.417682            115.566491   \n",
       "std          4.756676     0.034653            17.673881             56.288223   \n",
       "min          0.600000     0.009000             1.000000              6.000000   \n",
       "25%          1.800000     0.038000            17.000000             78.000000   \n",
       "50%          3.000000     0.047000            29.000000            118.000000   \n",
       "75%          8.100000     0.064000            41.000000            155.000000   \n",
       "max         65.800000     0.610000           289.000000            440.000000   \n",
       "\n",
       "           density           pH    sulphates      alcohol  \n",
       "count  5497.000000  5497.000000  5497.000000  5497.000000  \n",
       "mean      0.994673     3.219502     0.530524    10.504918  \n",
       "std       0.003014     0.160713     0.149396     1.194524  \n",
       "min       0.987110     2.740000     0.220000     8.000000  \n",
       "25%       0.992300     3.110000     0.430000     9.500000  \n",
       "50%       0.994800     3.210000     0.510000    10.300000  \n",
       "75%       0.996930     3.320000     0.600000    11.300000  \n",
       "max       1.038980     4.010000     2.000000    14.900000  "
      ]
     },
     "execution_count": 29,
     "metadata": {},
     "output_type": "execute_result"
    }
   ],
   "source": [
    "train.describe() # fixed acidity 데이터 분포 체크"
   ]
  },
  {
   "cell_type": "code",
   "execution_count": 30,
   "id": "b1c56b26",
   "metadata": {},
   "outputs": [
    {
     "data": {
      "text/plain": [
       "<AxesSubplot:xlabel='fixed acidity', ylabel='Density'>"
      ]
     },
     "execution_count": 30,
     "metadata": {},
     "output_type": "execute_result"
    },
    {
     "data": {
      "image/png": "[encoded data removed]",
      "text/plain": [
       "<Figure size 432x288 with 1 Axes>"
      ]
     },
     "metadata": {
      "needs_background": "light"
     },
     "output_type": "display_data"
    }
   ],
   "source": [
    "sns.distplot(train['fixed acidity']) # fixed acidity의 distplot"
   ]
  },
  {
   "cell_type": "code",
   "execution_count": 33,
   "id": "934a9d78",
   "metadata": {},
   "outputs": [],
   "source": [
    "scaler = MinMaxScaler()"
   ]
  },
  {
   "cell_type": "code",
   "execution_count": 35,
   "id": "868506e2",
   "metadata": {},
   "outputs": [
    {
     "data": {
      "text/plain": [
       "MinMaxScaler()"
      ]
     },
     "execution_count": 35,
     "metadata": {},
     "output_type": "execute_result"
    }
   ],
   "source": [
    "# scaler 학습\n",
    "scaler.fit(train[['fixed acidity']])"
   ]
  },
  {
   "cell_type": "code",
   "execution_count": 36,
   "id": "570cba7f",
   "metadata": {},
   "outputs": [],
   "source": [
    "train['Scaled fixed acidity'] = scaler.transform(train[['fixed acidity']])"
   ]
  },
  {
   "cell_type": "code",
   "execution_count": 37,
   "id": "8cb5c52e",
   "metadata": {},
   "outputs": [
    {
     "data": {
      "text/plain": [
       "<AxesSubplot:xlabel='Scaled fixed acidity', ylabel='Density'>"
      ]
     },
     "execution_count": 37,
     "metadata": {},
     "output_type": "execute_result"
    },
    {
     "data": {
      "image/png": "[encoded data removed]",
      "text/plain": [
       "<Figure size 432x288 with 1 Axes>"
      ]
     },
     "metadata": {
      "needs_background": "light"
     },
     "output_type": "display_data"
    }
   ],
   "source": [
    "# Scaled한 fixed acidity의 distplot\n",
    "sns.distplot(train['Scaled fixed acidity'])"
   ]
  },
  {
   "cell_type": "code",
   "execution_count": 38,
   "id": "413f8207",
   "metadata": {},
   "outputs": [
    {
     "data": {
      "text/plain": [
       "<AxesSubplot:xlabel='fixed acidity', ylabel='Density'>"
      ]
     },
     "execution_count": 38,
     "metadata": {},
     "output_type": "execute_result"
    },
    {
     "data": {
      "image/png": "[encoded data removed]",
      "text/plain": [
       "<Figure size 432x288 with 1 Axes>"
      ]
     },
     "metadata": {
      "needs_background": "light"
     },
     "output_type": "display_data"
    }
   ],
   "source": [
    "# 이상치 제거한 train2의 distplot\n",
    "sns.distplot(train2['fixed acidity'])"
   ]
  },
  {
   "cell_type": "code",
   "execution_count": 39,
   "id": "3a9a40a2",
   "metadata": {},
   "outputs": [],
   "source": [
    "# train2 minmax 정규화 ( 0 ~ 1 사이의 값을 변환)\n",
    "\n",
    "scaler2 = MinMaxScaler()\n",
    "scaler2.fit(train2[['fixed acidity']])\n",
    "train2['Scaled fixed acidity'] = scaler2.transform(train2[['fixed acidity']])"
   ]
  },
  {
   "cell_type": "code",
   "execution_count": 40,
   "id": "586cf478",
   "metadata": {},
   "outputs": [
    {
     "data": {
      "text/plain": [
       "<AxesSubplot:xlabel='Scaled fixed acidity', ylabel='Density'>"
      ]
     },
     "execution_count": 40,
     "metadata": {},
     "output_type": "execute_result"
    },
    {
     "data": {
      "image/png": "[encoded data removed]",
      "text/plain": [
       "<Figure size 432x288 with 1 Axes>"
      ]
     },
     "metadata": {
      "needs_background": "light"
     },
     "output_type": "display_data"
    }
   ],
   "source": [
    "sns.distplot(train2['Scaled fixed acidity'])"
   ]
  },
  {
   "cell_type": "code",
   "execution_count": 43,
   "id": "d8d93b57",
   "metadata": {},
   "outputs": [
    {
     "data": {
      "text/html": [
       "<div>\n",
       "<style scoped>\n",
       "    .dataframe tbody tr th:only-of-type {\n",
       "        vertical-align: middle;\n",
       "    }\n",
       "\n",
       "    .dataframe tbody tr th {\n",
       "        vertical-align: top;\n",
       "    }\n",
       "\n",
       "    .dataframe thead th {\n",
       "        text-align: right;\n",
       "    }\n",
       "</style>\n",
       "<table border=\"1\" class=\"dataframe\">\n",
       "  <thead>\n",
       "    <tr style=\"text-align: right;\">\n",
       "      <th></th>\n",
       "      <th>index</th>\n",
       "      <th>quality</th>\n",
       "      <th>fixed acidity</th>\n",
       "      <th>volatile acidity</th>\n",
       "      <th>citric acid</th>\n",
       "      <th>residual sugar</th>\n",
       "      <th>chlorides</th>\n",
       "      <th>free sulfur dioxide</th>\n",
       "      <th>total sulfur dioxide</th>\n",
       "      <th>density</th>\n",
       "      <th>pH</th>\n",
       "      <th>sulphates</th>\n",
       "      <th>alcohol</th>\n",
       "      <th>Scaled fixed acidity</th>\n",
       "    </tr>\n",
       "  </thead>\n",
       "  <tbody>\n",
       "    <tr>\n",
       "      <th>count</th>\n",
       "      <td>5203.000000</td>\n",
       "      <td>5203.000000</td>\n",
       "      <td>5203.000000</td>\n",
       "      <td>5203.000000</td>\n",
       "      <td>5203.000000</td>\n",
       "      <td>5203.000000</td>\n",
       "      <td>5203.000000</td>\n",
       "      <td>5203.000000</td>\n",
       "      <td>5203.000000</td>\n",
       "      <td>5203.000000</td>\n",
       "      <td>5203.000000</td>\n",
       "      <td>5203.000000</td>\n",
       "      <td>5203.000000</td>\n",
       "      <td>5203.000000</td>\n",
       "    </tr>\n",
       "    <tr>\n",
       "      <th>mean</th>\n",
       "      <td>2753.771670</td>\n",
       "      <td>5.821065</td>\n",
       "      <td>7.004132</td>\n",
       "      <td>0.332852</td>\n",
       "      <td>0.309366</td>\n",
       "      <td>5.573131</td>\n",
       "      <td>0.054088</td>\n",
       "      <td>31.337113</td>\n",
       "      <td>119.578897</td>\n",
       "      <td>0.994472</td>\n",
       "      <td>3.222862</td>\n",
       "      <td>0.521893</td>\n",
       "      <td>10.504133</td>\n",
       "      <td>0.491006</td>\n",
       "    </tr>\n",
       "    <tr>\n",
       "      <th>std</th>\n",
       "      <td>1587.326459</td>\n",
       "      <td>0.868565</td>\n",
       "      <td>0.906623</td>\n",
       "      <td>0.162106</td>\n",
       "      <td>0.140360</td>\n",
       "      <td>4.828254</td>\n",
       "      <td>0.033831</td>\n",
       "      <td>17.536054</td>\n",
       "      <td>54.483795</td>\n",
       "      <td>0.002926</td>\n",
       "      <td>0.161715</td>\n",
       "      <td>0.143725</td>\n",
       "      <td>1.201914</td>\n",
       "      <td>0.177769</td>\n",
       "    </tr>\n",
       "    <tr>\n",
       "      <th>min</th>\n",
       "      <td>0.000000</td>\n",
       "      <td>3.000000</td>\n",
       "      <td>4.500000</td>\n",
       "      <td>0.080000</td>\n",
       "      <td>0.000000</td>\n",
       "      <td>0.600000</td>\n",
       "      <td>0.009000</td>\n",
       "      <td>1.000000</td>\n",
       "      <td>6.000000</td>\n",
       "      <td>0.987110</td>\n",
       "      <td>2.740000</td>\n",
       "      <td>0.220000</td>\n",
       "      <td>8.000000</td>\n",
       "      <td>0.000000</td>\n",
       "    </tr>\n",
       "    <tr>\n",
       "      <th>25%</th>\n",
       "      <td>1380.500000</td>\n",
       "      <td>5.000000</td>\n",
       "      <td>6.400000</td>\n",
       "      <td>0.220000</td>\n",
       "      <td>0.240000</td>\n",
       "      <td>1.800000</td>\n",
       "      <td>0.037000</td>\n",
       "      <td>18.000000</td>\n",
       "      <td>86.000000</td>\n",
       "      <td>0.992160</td>\n",
       "      <td>3.110000</td>\n",
       "      <td>0.430000</td>\n",
       "      <td>9.500000</td>\n",
       "      <td>0.372549</td>\n",
       "    </tr>\n",
       "    <tr>\n",
       "      <th>50%</th>\n",
       "      <td>2754.000000</td>\n",
       "      <td>6.000000</td>\n",
       "      <td>6.900000</td>\n",
       "      <td>0.290000</td>\n",
       "      <td>0.300000</td>\n",
       "      <td>3.300000</td>\n",
       "      <td>0.046000</td>\n",
       "      <td>30.000000</td>\n",
       "      <td>121.000000</td>\n",
       "      <td>0.994600</td>\n",
       "      <td>3.210000</td>\n",
       "      <td>0.500000</td>\n",
       "      <td>10.300000</td>\n",
       "      <td>0.470588</td>\n",
       "    </tr>\n",
       "    <tr>\n",
       "      <th>75%</th>\n",
       "      <td>4129.500000</td>\n",
       "      <td>6.000000</td>\n",
       "      <td>7.500000</td>\n",
       "      <td>0.390000</td>\n",
       "      <td>0.380000</td>\n",
       "      <td>8.300000</td>\n",
       "      <td>0.060000</td>\n",
       "      <td>42.000000</td>\n",
       "      <td>157.000000</td>\n",
       "      <td>0.996660</td>\n",
       "      <td>3.330000</td>\n",
       "      <td>0.590000</td>\n",
       "      <td>11.300000</td>\n",
       "      <td>0.588235</td>\n",
       "    </tr>\n",
       "    <tr>\n",
       "      <th>max</th>\n",
       "      <td>5496.000000</td>\n",
       "      <td>9.000000</td>\n",
       "      <td>9.600000</td>\n",
       "      <td>1.580000</td>\n",
       "      <td>1.660000</td>\n",
       "      <td>65.800000</td>\n",
       "      <td>0.610000</td>\n",
       "      <td>289.000000</td>\n",
       "      <td>440.000000</td>\n",
       "      <td>1.038980</td>\n",
       "      <td>4.010000</td>\n",
       "      <td>2.000000</td>\n",
       "      <td>14.200000</td>\n",
       "      <td>1.000000</td>\n",
       "    </tr>\n",
       "  </tbody>\n",
       "</table>\n",
       "</div>"
      ],
      "text/plain": [
       "             index      quality  fixed acidity  volatile acidity  citric acid  \\\n",
       "count  5203.000000  5203.000000    5203.000000       5203.000000  5203.000000   \n",
       "mean   2753.771670     5.821065       7.004132          0.332852     0.309366   \n",
       "std    1587.326459     0.868565       0.906623          0.162106     0.140360   \n",
       "min       0.000000     3.000000       4.500000          0.080000     0.000000   \n",
       "25%    1380.500000     5.000000       6.400000          0.220000     0.240000   \n",
       "50%    2754.000000     6.000000       6.900000          0.290000     0.300000   \n",
       "75%    4129.500000     6.000000       7.500000          0.390000     0.380000   \n",
       "max    5496.000000     9.000000       9.600000          1.580000     1.660000   \n",
       "\n",
       "       residual sugar    chlorides  free sulfur dioxide  total sulfur dioxide  \\\n",
       "count     5203.000000  5203.000000          5203.000000           5203.000000   \n",
       "mean         5.573131     0.054088            31.337113            119.578897   \n",
       "std          4.828254     0.033831            17.536054             54.483795   \n",
       "min          0.600000     0.009000             1.000000              6.000000   \n",
       "25%          1.800000     0.037000            18.000000             86.000000   \n",
       "50%          3.300000     0.046000            30.000000            121.000000   \n",
       "75%          8.300000     0.060000            42.000000            157.000000   \n",
       "max         65.800000     0.610000           289.000000            440.000000   \n",
       "\n",
       "           density           pH    sulphates      alcohol  \\\n",
       "count  5203.000000  5203.000000  5203.000000  5203.000000   \n",
       "mean      0.994472     3.222862     0.521893    10.504133   \n",
       "std       0.002926     0.161715     0.143725     1.201914   \n",
       "min       0.987110     2.740000     0.220000     8.000000   \n",
       "25%       0.992160     3.110000     0.430000     9.500000   \n",
       "50%       0.994600     3.210000     0.500000    10.300000   \n",
       "75%       0.996660     3.330000     0.590000    11.300000   \n",
       "max       1.038980     4.010000     2.000000    14.200000   \n",
       "\n",
       "       Scaled fixed acidity  \n",
       "count           5203.000000  \n",
       "mean               0.491006  \n",
       "std                0.177769  \n",
       "min                0.000000  \n",
       "25%                0.372549  \n",
       "50%                0.470588  \n",
       "75%                0.588235  \n",
       "max                1.000000  "
      ]
     },
     "execution_count": 43,
     "metadata": {},
     "output_type": "execute_result"
    }
   ],
   "source": [
    "train2.describe()"
   ]
  },
  {
   "cell_type": "markdown",
   "id": "f8528812",
   "metadata": {},
   "source": [
    "## Encoding - One Hot Encoding"
   ]
  },
  {
   "cell_type": "code",
   "execution_count": 44,
   "id": "c3604060",
   "metadata": {},
   "outputs": [],
   "source": [
    "from sklearn.preprocessing import OneHotEncoder"
   ]
  },
  {
   "cell_type": "code",
   "execution_count": 68,
   "id": "fd1de7fb",
   "metadata": {},
   "outputs": [],
   "source": [
    "train = pd.read_csv('../data/와인/train.csv')"
   ]
  },
  {
   "cell_type": "code",
   "execution_count": 69,
   "id": "7816bd3f",
   "metadata": {},
   "outputs": [
    {
     "data": {
      "text/plain": [
       "<5497x2 sparse matrix of type '<class 'numpy.float64'>'\n",
       "\twith 5497 stored elements in Compressed Sparse Row format>"
      ]
     },
     "execution_count": 69,
     "metadata": {},
     "output_type": "execute_result"
    }
   ],
   "source": [
    "encoder = OneHotEncoder()\n",
    "\n",
    "# encoder로 train의 type 피쳐 학습\n",
    "encoder.fit(train[['type']])\n",
    "# onehot - train type피쳐 변환\n",
    "onehot = encoder.transform(train[['type']])\n",
    "onehot"
   ]
  },
  {
   "cell_type": "code",
   "execution_count": 70,
   "id": "29b04b04",
   "metadata": {},
   "outputs": [
    {
     "data": {
      "text/plain": [
       "<5497x2 sparse matrix of type '<class 'numpy.float64'>'\n",
       "\twith 5497 stored elements in Compressed Sparse Row format>"
      ]
     },
     "execution_count": 70,
     "metadata": {},
     "output_type": "execute_result"
    }
   ],
   "source": [
    "# dtype('float64')\n",
    "onehot "
   ]
  },
  {
   "cell_type": "code",
   "execution_count": 71,
   "id": "0212f8ae",
   "metadata": {},
   "outputs": [
    {
     "data": {
      "text/plain": [
       "array([[0., 1.],\n",
       "       [1., 0.],\n",
       "       [0., 1.],\n",
       "       ...,\n",
       "       [0., 1.],\n",
       "       [0., 1.],\n",
       "       [0., 1.]])"
      ]
     },
     "execution_count": 71,
     "metadata": {},
     "output_type": "execute_result"
    }
   ],
   "source": [
    "# Array 변환\n",
    "onehot = onehot.toarray()\n",
    "onehot"
   ]
  },
  {
   "cell_type": "code",
   "execution_count": 72,
   "id": "11270101",
   "metadata": {},
   "outputs": [
    {
     "data": {
      "text/html": [
       "<div>\n",
       "<style scoped>\n",
       "    .dataframe tbody tr th:only-of-type {\n",
       "        vertical-align: middle;\n",
       "    }\n",
       "\n",
       "    .dataframe tbody tr th {\n",
       "        vertical-align: top;\n",
       "    }\n",
       "\n",
       "    .dataframe thead th {\n",
       "        text-align: right;\n",
       "    }\n",
       "</style>\n",
       "<table border=\"1\" class=\"dataframe\">\n",
       "  <thead>\n",
       "    <tr style=\"text-align: right;\">\n",
       "      <th></th>\n",
       "      <th>0</th>\n",
       "      <th>1</th>\n",
       "    </tr>\n",
       "  </thead>\n",
       "  <tbody>\n",
       "    <tr>\n",
       "      <th>0</th>\n",
       "      <td>0.0</td>\n",
       "      <td>1.0</td>\n",
       "    </tr>\n",
       "    <tr>\n",
       "      <th>1</th>\n",
       "      <td>1.0</td>\n",
       "      <td>0.0</td>\n",
       "    </tr>\n",
       "    <tr>\n",
       "      <th>2</th>\n",
       "      <td>0.0</td>\n",
       "      <td>1.0</td>\n",
       "    </tr>\n",
       "    <tr>\n",
       "      <th>3</th>\n",
       "      <td>0.0</td>\n",
       "      <td>1.0</td>\n",
       "    </tr>\n",
       "    <tr>\n",
       "      <th>4</th>\n",
       "      <td>0.0</td>\n",
       "      <td>1.0</td>\n",
       "    </tr>\n",
       "  </tbody>\n",
       "</table>\n",
       "</div>"
      ],
      "text/plain": [
       "     0    1\n",
       "0  0.0  1.0\n",
       "1  1.0  0.0\n",
       "2  0.0  1.0\n",
       "3  0.0  1.0\n",
       "4  0.0  1.0"
      ]
     },
     "execution_count": 72,
     "metadata": {},
     "output_type": "execute_result"
    }
   ],
   "source": [
    "# Dataframe 변환\n",
    "onehot = pd.DataFrame(onehot)\n",
    "onehot.head()"
   ]
  },
  {
   "cell_type": "code",
   "execution_count": 73,
   "id": "0a2c5bf8",
   "metadata": {},
   "outputs": [
    {
     "data": {
      "text/html": [
       "<div>\n",
       "<style scoped>\n",
       "    .dataframe tbody tr th:only-of-type {\n",
       "        vertical-align: middle;\n",
       "    }\n",
       "\n",
       "    .dataframe tbody tr th {\n",
       "        vertical-align: top;\n",
       "    }\n",
       "\n",
       "    .dataframe thead th {\n",
       "        text-align: right;\n",
       "    }\n",
       "</style>\n",
       "<table border=\"1\" class=\"dataframe\">\n",
       "  <thead>\n",
       "    <tr style=\"text-align: right;\">\n",
       "      <th></th>\n",
       "      <th>x0_red</th>\n",
       "      <th>x0_white</th>\n",
       "    </tr>\n",
       "  </thead>\n",
       "  <tbody>\n",
       "    <tr>\n",
       "      <th>0</th>\n",
       "      <td>0.0</td>\n",
       "      <td>1.0</td>\n",
       "    </tr>\n",
       "    <tr>\n",
       "      <th>1</th>\n",
       "      <td>1.0</td>\n",
       "      <td>0.0</td>\n",
       "    </tr>\n",
       "    <tr>\n",
       "      <th>2</th>\n",
       "      <td>0.0</td>\n",
       "      <td>1.0</td>\n",
       "    </tr>\n",
       "    <tr>\n",
       "      <th>3</th>\n",
       "      <td>0.0</td>\n",
       "      <td>1.0</td>\n",
       "    </tr>\n",
       "    <tr>\n",
       "      <th>4</th>\n",
       "      <td>0.0</td>\n",
       "      <td>1.0</td>\n",
       "    </tr>\n",
       "  </tbody>\n",
       "</table>\n",
       "</div>"
      ],
      "text/plain": [
       "   x0_red  x0_white\n",
       "0     0.0       1.0\n",
       "1     1.0       0.0\n",
       "2     0.0       1.0\n",
       "3     0.0       1.0\n",
       "4     0.0       1.0"
      ]
     },
     "execution_count": 73,
     "metadata": {},
     "output_type": "execute_result"
    }
   ],
   "source": [
    "# column 이름 변경\n",
    "onehot.columns = encoder.get_feature_names()\n",
    "onehot.head()"
   ]
  },
  {
   "cell_type": "code",
   "execution_count": 74,
   "id": "c6ed845b",
   "metadata": {},
   "outputs": [
    {
     "data": {
      "text/html": [
       "<div>\n",
       "<style scoped>\n",
       "    .dataframe tbody tr th:only-of-type {\n",
       "        vertical-align: middle;\n",
       "    }\n",
       "\n",
       "    .dataframe tbody tr th {\n",
       "        vertical-align: top;\n",
       "    }\n",
       "\n",
       "    .dataframe thead th {\n",
       "        text-align: right;\n",
       "    }\n",
       "</style>\n",
       "<table border=\"1\" class=\"dataframe\">\n",
       "  <thead>\n",
       "    <tr style=\"text-align: right;\">\n",
       "      <th></th>\n",
       "      <th>index</th>\n",
       "      <th>quality</th>\n",
       "      <th>fixed acidity</th>\n",
       "      <th>volatile acidity</th>\n",
       "      <th>citric acid</th>\n",
       "      <th>residual sugar</th>\n",
       "      <th>chlorides</th>\n",
       "      <th>free sulfur dioxide</th>\n",
       "      <th>total sulfur dioxide</th>\n",
       "      <th>density</th>\n",
       "      <th>pH</th>\n",
       "      <th>sulphates</th>\n",
       "      <th>alcohol</th>\n",
       "      <th>type</th>\n",
       "      <th>x0_red</th>\n",
       "      <th>x0_white</th>\n",
       "    </tr>\n",
       "  </thead>\n",
       "  <tbody>\n",
       "    <tr>\n",
       "      <th>0</th>\n",
       "      <td>0</td>\n",
       "      <td>5</td>\n",
       "      <td>5.6</td>\n",
       "      <td>0.695</td>\n",
       "      <td>0.06</td>\n",
       "      <td>6.8</td>\n",
       "      <td>0.042</td>\n",
       "      <td>9.0</td>\n",
       "      <td>84.0</td>\n",
       "      <td>0.99432</td>\n",
       "      <td>3.44</td>\n",
       "      <td>0.44</td>\n",
       "      <td>10.2</td>\n",
       "      <td>white</td>\n",
       "      <td>0.0</td>\n",
       "      <td>1.0</td>\n",
       "    </tr>\n",
       "    <tr>\n",
       "      <th>1</th>\n",
       "      <td>1</td>\n",
       "      <td>5</td>\n",
       "      <td>8.8</td>\n",
       "      <td>0.610</td>\n",
       "      <td>0.14</td>\n",
       "      <td>2.4</td>\n",
       "      <td>0.067</td>\n",
       "      <td>10.0</td>\n",
       "      <td>42.0</td>\n",
       "      <td>0.99690</td>\n",
       "      <td>3.19</td>\n",
       "      <td>0.59</td>\n",
       "      <td>9.5</td>\n",
       "      <td>red</td>\n",
       "      <td>1.0</td>\n",
       "      <td>0.0</td>\n",
       "    </tr>\n",
       "    <tr>\n",
       "      <th>2</th>\n",
       "      <td>2</td>\n",
       "      <td>5</td>\n",
       "      <td>7.9</td>\n",
       "      <td>0.210</td>\n",
       "      <td>0.39</td>\n",
       "      <td>2.0</td>\n",
       "      <td>0.057</td>\n",
       "      <td>21.0</td>\n",
       "      <td>138.0</td>\n",
       "      <td>0.99176</td>\n",
       "      <td>3.05</td>\n",
       "      <td>0.52</td>\n",
       "      <td>10.9</td>\n",
       "      <td>white</td>\n",
       "      <td>0.0</td>\n",
       "      <td>1.0</td>\n",
       "    </tr>\n",
       "    <tr>\n",
       "      <th>3</th>\n",
       "      <td>3</td>\n",
       "      <td>6</td>\n",
       "      <td>7.0</td>\n",
       "      <td>0.210</td>\n",
       "      <td>0.31</td>\n",
       "      <td>6.0</td>\n",
       "      <td>0.046</td>\n",
       "      <td>29.0</td>\n",
       "      <td>108.0</td>\n",
       "      <td>0.99390</td>\n",
       "      <td>3.26</td>\n",
       "      <td>0.50</td>\n",
       "      <td>10.8</td>\n",
       "      <td>white</td>\n",
       "      <td>0.0</td>\n",
       "      <td>1.0</td>\n",
       "    </tr>\n",
       "    <tr>\n",
       "      <th>4</th>\n",
       "      <td>4</td>\n",
       "      <td>6</td>\n",
       "      <td>7.8</td>\n",
       "      <td>0.400</td>\n",
       "      <td>0.26</td>\n",
       "      <td>9.5</td>\n",
       "      <td>0.059</td>\n",
       "      <td>32.0</td>\n",
       "      <td>178.0</td>\n",
       "      <td>0.99550</td>\n",
       "      <td>3.04</td>\n",
       "      <td>0.43</td>\n",
       "      <td>10.9</td>\n",
       "      <td>white</td>\n",
       "      <td>0.0</td>\n",
       "      <td>1.0</td>\n",
       "    </tr>\n",
       "  </tbody>\n",
       "</table>\n",
       "</div>"
      ],
      "text/plain": [
       "   index  quality  fixed acidity  volatile acidity  citric acid  \\\n",
       "0      0        5            5.6             0.695         0.06   \n",
       "1      1        5            8.8             0.610         0.14   \n",
       "2      2        5            7.9             0.210         0.39   \n",
       "3      3        6            7.0             0.210         0.31   \n",
       "4      4        6            7.8             0.400         0.26   \n",
       "\n",
       "   residual sugar  chlorides  free sulfur dioxide  total sulfur dioxide  \\\n",
       "0             6.8      0.042                  9.0                  84.0   \n",
       "1             2.4      0.067                 10.0                  42.0   \n",
       "2             2.0      0.057                 21.0                 138.0   \n",
       "3             6.0      0.046                 29.0                 108.0   \n",
       "4             9.5      0.059                 32.0                 178.0   \n",
       "\n",
       "   density    pH  sulphates  alcohol   type  x0_red  x0_white  \n",
       "0  0.99432  3.44       0.44     10.2  white     0.0       1.0  \n",
       "1  0.99690  3.19       0.59      9.5    red     1.0       0.0  \n",
       "2  0.99176  3.05       0.52     10.9  white     0.0       1.0  \n",
       "3  0.99390  3.26       0.50     10.8  white     0.0       1.0  \n",
       "4  0.99550  3.04       0.43     10.9  white     0.0       1.0  "
      ]
     },
     "execution_count": 74,
     "metadata": {},
     "output_type": "execute_result"
    }
   ],
   "source": [
    "# onehot 데이터를 train 데이터에 병합\n",
    "\n",
    "onehot = pd.concat([train, onehot], axis = 1)\n",
    "onehot.head()"
   ]
  },
  {
   "cell_type": "code",
   "execution_count": 75,
   "id": "6f0bb981",
   "metadata": {},
   "outputs": [
    {
     "data": {
      "text/html": [
       "<div>\n",
       "<style scoped>\n",
       "    .dataframe tbody tr th:only-of-type {\n",
       "        vertical-align: middle;\n",
       "    }\n",
       "\n",
       "    .dataframe tbody tr th {\n",
       "        vertical-align: top;\n",
       "    }\n",
       "\n",
       "    .dataframe thead th {\n",
       "        text-align: right;\n",
       "    }\n",
       "</style>\n",
       "<table border=\"1\" class=\"dataframe\">\n",
       "  <thead>\n",
       "    <tr style=\"text-align: right;\">\n",
       "      <th></th>\n",
       "      <th>index</th>\n",
       "      <th>quality</th>\n",
       "      <th>fixed acidity</th>\n",
       "      <th>volatile acidity</th>\n",
       "      <th>citric acid</th>\n",
       "      <th>residual sugar</th>\n",
       "      <th>chlorides</th>\n",
       "      <th>free sulfur dioxide</th>\n",
       "      <th>total sulfur dioxide</th>\n",
       "      <th>density</th>\n",
       "      <th>pH</th>\n",
       "      <th>sulphates</th>\n",
       "      <th>alcohol</th>\n",
       "    </tr>\n",
       "  </thead>\n",
       "  <tbody>\n",
       "    <tr>\n",
       "      <th>0</th>\n",
       "      <td>0</td>\n",
       "      <td>5</td>\n",
       "      <td>5.6</td>\n",
       "      <td>0.695</td>\n",
       "      <td>0.06</td>\n",
       "      <td>6.8</td>\n",
       "      <td>0.042</td>\n",
       "      <td>9.0</td>\n",
       "      <td>84.0</td>\n",
       "      <td>0.99432</td>\n",
       "      <td>3.44</td>\n",
       "      <td>0.44</td>\n",
       "      <td>10.2</td>\n",
       "    </tr>\n",
       "    <tr>\n",
       "      <th>1</th>\n",
       "      <td>1</td>\n",
       "      <td>5</td>\n",
       "      <td>8.8</td>\n",
       "      <td>0.610</td>\n",
       "      <td>0.14</td>\n",
       "      <td>2.4</td>\n",
       "      <td>0.067</td>\n",
       "      <td>10.0</td>\n",
       "      <td>42.0</td>\n",
       "      <td>0.99690</td>\n",
       "      <td>3.19</td>\n",
       "      <td>0.59</td>\n",
       "      <td>9.5</td>\n",
       "    </tr>\n",
       "    <tr>\n",
       "      <th>2</th>\n",
       "      <td>2</td>\n",
       "      <td>5</td>\n",
       "      <td>7.9</td>\n",
       "      <td>0.210</td>\n",
       "      <td>0.39</td>\n",
       "      <td>2.0</td>\n",
       "      <td>0.057</td>\n",
       "      <td>21.0</td>\n",
       "      <td>138.0</td>\n",
       "      <td>0.99176</td>\n",
       "      <td>3.05</td>\n",
       "      <td>0.52</td>\n",
       "      <td>10.9</td>\n",
       "    </tr>\n",
       "    <tr>\n",
       "      <th>3</th>\n",
       "      <td>3</td>\n",
       "      <td>6</td>\n",
       "      <td>7.0</td>\n",
       "      <td>0.210</td>\n",
       "      <td>0.31</td>\n",
       "      <td>6.0</td>\n",
       "      <td>0.046</td>\n",
       "      <td>29.0</td>\n",
       "      <td>108.0</td>\n",
       "      <td>0.99390</td>\n",
       "      <td>3.26</td>\n",
       "      <td>0.50</td>\n",
       "      <td>10.8</td>\n",
       "    </tr>\n",
       "    <tr>\n",
       "      <th>4</th>\n",
       "      <td>4</td>\n",
       "      <td>6</td>\n",
       "      <td>7.8</td>\n",
       "      <td>0.400</td>\n",
       "      <td>0.26</td>\n",
       "      <td>9.5</td>\n",
       "      <td>0.059</td>\n",
       "      <td>32.0</td>\n",
       "      <td>178.0</td>\n",
       "      <td>0.99550</td>\n",
       "      <td>3.04</td>\n",
       "      <td>0.43</td>\n",
       "      <td>10.9</td>\n",
       "    </tr>\n",
       "  </tbody>\n",
       "</table>\n",
       "</div>"
      ],
      "text/plain": [
       "   index  quality  fixed acidity  volatile acidity  citric acid  \\\n",
       "0      0        5            5.6             0.695         0.06   \n",
       "1      1        5            8.8             0.610         0.14   \n",
       "2      2        5            7.9             0.210         0.39   \n",
       "3      3        6            7.0             0.210         0.31   \n",
       "4      4        6            7.8             0.400         0.26   \n",
       "\n",
       "   residual sugar  chlorides  free sulfur dioxide  total sulfur dioxide  \\\n",
       "0             6.8      0.042                  9.0                  84.0   \n",
       "1             2.4      0.067                 10.0                  42.0   \n",
       "2             2.0      0.057                 21.0                 138.0   \n",
       "3             6.0      0.046                 29.0                 108.0   \n",
       "4             9.5      0.059                 32.0                 178.0   \n",
       "\n",
       "   density    pH  sulphates  alcohol  \n",
       "0  0.99432  3.44       0.44     10.2  \n",
       "1  0.99690  3.19       0.59      9.5  \n",
       "2  0.99176  3.05       0.52     10.9  \n",
       "3  0.99390  3.26       0.50     10.8  \n",
       "4  0.99550  3.04       0.43     10.9  "
      ]
     },
     "execution_count": 75,
     "metadata": {},
     "output_type": "execute_result"
    }
   ],
   "source": [
    "# train의 type변수를 onehot encoding시켰기 때문에 type 변수 제거\n",
    "train = train.drop(columns= ['type'])\n",
    "train.head()"
   ]
  },
  {
   "cell_type": "markdown",
   "id": "89afe2e6",
   "metadata": {},
   "source": [
    "### OneHot 요약"
   ]
  },
  {
   "cell_type": "code",
   "execution_count": 76,
   "id": "d492e518",
   "metadata": {},
   "outputs": [
    {
     "data": {
      "text/html": [
       "<div>\n",
       "<style scoped>\n",
       "    .dataframe tbody tr th:only-of-type {\n",
       "        vertical-align: middle;\n",
       "    }\n",
       "\n",
       "    .dataframe tbody tr th {\n",
       "        vertical-align: top;\n",
       "    }\n",
       "\n",
       "    .dataframe thead th {\n",
       "        text-align: right;\n",
       "    }\n",
       "</style>\n",
       "<table border=\"1\" class=\"dataframe\">\n",
       "  <thead>\n",
       "    <tr style=\"text-align: right;\">\n",
       "      <th></th>\n",
       "      <th>index</th>\n",
       "      <th>quality</th>\n",
       "      <th>fixed acidity</th>\n",
       "      <th>volatile acidity</th>\n",
       "      <th>citric acid</th>\n",
       "      <th>residual sugar</th>\n",
       "      <th>chlorides</th>\n",
       "      <th>free sulfur dioxide</th>\n",
       "      <th>total sulfur dioxide</th>\n",
       "      <th>density</th>\n",
       "      <th>pH</th>\n",
       "      <th>sulphates</th>\n",
       "      <th>alcohol</th>\n",
       "      <th>x0_red</th>\n",
       "      <th>x0_white</th>\n",
       "    </tr>\n",
       "  </thead>\n",
       "  <tbody>\n",
       "    <tr>\n",
       "      <th>0</th>\n",
       "      <td>0</td>\n",
       "      <td>5</td>\n",
       "      <td>5.6</td>\n",
       "      <td>0.695</td>\n",
       "      <td>0.06</td>\n",
       "      <td>6.8</td>\n",
       "      <td>0.042</td>\n",
       "      <td>9.0</td>\n",
       "      <td>84.0</td>\n",
       "      <td>0.99432</td>\n",
       "      <td>3.44</td>\n",
       "      <td>0.44</td>\n",
       "      <td>10.2</td>\n",
       "      <td>0.0</td>\n",
       "      <td>1.0</td>\n",
       "    </tr>\n",
       "    <tr>\n",
       "      <th>1</th>\n",
       "      <td>1</td>\n",
       "      <td>5</td>\n",
       "      <td>8.8</td>\n",
       "      <td>0.610</td>\n",
       "      <td>0.14</td>\n",
       "      <td>2.4</td>\n",
       "      <td>0.067</td>\n",
       "      <td>10.0</td>\n",
       "      <td>42.0</td>\n",
       "      <td>0.99690</td>\n",
       "      <td>3.19</td>\n",
       "      <td>0.59</td>\n",
       "      <td>9.5</td>\n",
       "      <td>1.0</td>\n",
       "      <td>0.0</td>\n",
       "    </tr>\n",
       "    <tr>\n",
       "      <th>2</th>\n",
       "      <td>2</td>\n",
       "      <td>5</td>\n",
       "      <td>7.9</td>\n",
       "      <td>0.210</td>\n",
       "      <td>0.39</td>\n",
       "      <td>2.0</td>\n",
       "      <td>0.057</td>\n",
       "      <td>21.0</td>\n",
       "      <td>138.0</td>\n",
       "      <td>0.99176</td>\n",
       "      <td>3.05</td>\n",
       "      <td>0.52</td>\n",
       "      <td>10.9</td>\n",
       "      <td>0.0</td>\n",
       "      <td>1.0</td>\n",
       "    </tr>\n",
       "    <tr>\n",
       "      <th>3</th>\n",
       "      <td>3</td>\n",
       "      <td>6</td>\n",
       "      <td>7.0</td>\n",
       "      <td>0.210</td>\n",
       "      <td>0.31</td>\n",
       "      <td>6.0</td>\n",
       "      <td>0.046</td>\n",
       "      <td>29.0</td>\n",
       "      <td>108.0</td>\n",
       "      <td>0.99390</td>\n",
       "      <td>3.26</td>\n",
       "      <td>0.50</td>\n",
       "      <td>10.8</td>\n",
       "      <td>0.0</td>\n",
       "      <td>1.0</td>\n",
       "    </tr>\n",
       "    <tr>\n",
       "      <th>4</th>\n",
       "      <td>4</td>\n",
       "      <td>6</td>\n",
       "      <td>7.8</td>\n",
       "      <td>0.400</td>\n",
       "      <td>0.26</td>\n",
       "      <td>9.5</td>\n",
       "      <td>0.059</td>\n",
       "      <td>32.0</td>\n",
       "      <td>178.0</td>\n",
       "      <td>0.99550</td>\n",
       "      <td>3.04</td>\n",
       "      <td>0.43</td>\n",
       "      <td>10.9</td>\n",
       "      <td>0.0</td>\n",
       "      <td>1.0</td>\n",
       "    </tr>\n",
       "  </tbody>\n",
       "</table>\n",
       "</div>"
      ],
      "text/plain": [
       "   index  quality  fixed acidity  volatile acidity  citric acid  \\\n",
       "0      0        5            5.6             0.695         0.06   \n",
       "1      1        5            8.8             0.610         0.14   \n",
       "2      2        5            7.9             0.210         0.39   \n",
       "3      3        6            7.0             0.210         0.31   \n",
       "4      4        6            7.8             0.400         0.26   \n",
       "\n",
       "   residual sugar  chlorides  free sulfur dioxide  total sulfur dioxide  \\\n",
       "0             6.8      0.042                  9.0                  84.0   \n",
       "1             2.4      0.067                 10.0                  42.0   \n",
       "2             2.0      0.057                 21.0                 138.0   \n",
       "3             6.0      0.046                 29.0                 108.0   \n",
       "4             9.5      0.059                 32.0                 178.0   \n",
       "\n",
       "   density    pH  sulphates  alcohol  x0_red  x0_white  \n",
       "0  0.99432  3.44       0.44     10.2     0.0       1.0  \n",
       "1  0.99690  3.19       0.59      9.5     1.0       0.0  \n",
       "2  0.99176  3.05       0.52     10.9     0.0       1.0  \n",
       "3  0.99390  3.26       0.50     10.8     0.0       1.0  \n",
       "4  0.99550  3.04       0.43     10.9     0.0       1.0  "
      ]
     },
     "execution_count": 76,
     "metadata": {},
     "output_type": "execute_result"
    }
   ],
   "source": [
    "train = pd.read_csv('../data/와인/train.csv')\n",
    "encoder = OneHotEncoder()\n",
    "onehot = pd.DataFrame(encoder.fit_transform(train[['type']]).toarray(), columns = encoder.get_feature_names())\n",
    "train = pd.concat([train,onehot], axis = 1).drop(columns = ['type'])\n",
    "train.head()"
   ]
  },
  {
   "cell_type": "markdown",
   "id": "8411a9c1",
   "metadata": {},
   "source": [
    "--------"
   ]
  },
  {
   "cell_type": "markdown",
   "id": "a38b7335",
   "metadata": {},
   "source": [
    "# Modeling"
   ]
  },
  {
   "cell_type": "markdown",
   "id": "f0214c62",
   "metadata": {},
   "source": [
    "## Ensemble - **RandomForestClassifier**"
   ]
  },
  {
   "cell_type": "code",
   "execution_count": 77,
   "id": "c6499998",
   "metadata": {},
   "outputs": [],
   "source": [
    "from sklearn.ensemble import RandomForestClassifier"
   ]
  },
  {
   "cell_type": "code",
   "execution_count": 79,
   "id": "3bda94e9",
   "metadata": {},
   "outputs": [
    {
     "data": {
      "text/plain": [
       "RandomForestClassifier()"
      ]
     },
     "execution_count": 79,
     "metadata": {},
     "output_type": "execute_result"
    }
   ],
   "source": [
    "# define Model\n",
    "random_classifier = RandomForestClassifier()\n",
    "random_classifier\n"
   ]
  },
  {
   "cell_type": "code",
   "execution_count": 80,
   "id": "9601005a",
   "metadata": {},
   "outputs": [
    {
     "data": {
      "text/plain": [
       "RandomForestClassifier()"
      ]
     },
     "execution_count": 80,
     "metadata": {},
     "output_type": "execute_result"
    }
   ],
   "source": [
    "# X : train data\n",
    "X = train.drop(columns=['quality'])\n",
    "# y : predict result(quality)\n",
    "y = train['quality']\n",
    "\n",
    "# training\n",
    "random_classifier.fit(X, y)"
   ]
  },
  {
   "cell_type": "markdown",
   "id": "283fa1a9",
   "metadata": {},
   "source": [
    "## **K-Fold(교차검증)**"
   ]
  },
  {
   "cell_type": "markdown",
   "id": "b81be6a8",
   "metadata": {},
   "source": [
    "### Hold-out\n",
    "\n",
    "모델의 성능을 예측(검증)해보기 위해<br>\n",
    "**train data → train set(학습용) / vaild set(검증용)** 으로 나누는 작업<br>\n",
    "*보통 train : vaild = 7 : 3 / 8 : 2 로 나눔*\n",
    "\n",
    "*but 데이터의 낭비라는 문제가 발생* > sol. **K-Fold(교차검증)**"
   ]
  },
  {
   "cell_type": "markdown",
   "id": "cdff5d7c",
   "metadata": {},
   "source": [
    "### 교차검증\n",
    "> 모든 데이터를 최소한 한 번씩 다 학습하게 하자!\n",
    "\n",
    "학습할 때마다 valid set이 겹치지 않도록 N 개의 데이터셋을 만들어 모든 train data 들이 최소 한 번씩 학습에 사용되게 하는 방벙"
   ]
  },
  {
   "cell_type": "code",
   "execution_count": 102,
   "id": "7f028d1a",
   "metadata": {},
   "outputs": [],
   "source": [
    "from sklearn.model_selection import KFold\n",
    "from sklearn.metrics import accuracy_score"
   ]
  },
  {
   "cell_type": "code",
   "execution_count": 103,
   "id": "57d47a75",
   "metadata": {},
   "outputs": [],
   "source": [
    "kf = KFold(n_splits= 5, shuffle= True, random_state= 0)"
   ]
  },
  {
   "cell_type": "code",
   "execution_count": 104,
   "id": "c1f3670c",
   "metadata": {},
   "outputs": [
    {
     "name": "stdout",
     "output_type": "stream",
     "text": [
      "   index  quality  fixed acidity  volatile acidity  citric acid  \\\n",
      "0      0        5            5.6             0.695         0.06   \n",
      "1      1        5            8.8             0.610         0.14   \n",
      "2      2        5            7.9             0.210         0.39   \n",
      "3      3        6            7.0             0.210         0.31   \n",
      "5      5        6            6.0             0.190         0.37   \n",
      "\n",
      "   residual sugar  chlorides  free sulfur dioxide  total sulfur dioxide  \\\n",
      "0             6.8      0.042                  9.0                  84.0   \n",
      "1             2.4      0.067                 10.0                  42.0   \n",
      "2             2.0      0.057                 21.0                 138.0   \n",
      "3             6.0      0.046                 29.0                 108.0   \n",
      "5             9.7      0.032                 17.0                  50.0   \n",
      "\n",
      "   density    pH  sulphates  alcohol  x0_red  x0_white  \n",
      "0  0.99432  3.44       0.44     10.2     0.0       1.0  \n",
      "1  0.99690  3.19       0.59      9.5     1.0       0.0  \n",
      "2  0.99176  3.05       0.52     10.9     0.0       1.0  \n",
      "3  0.99390  3.26       0.50     10.8     0.0       1.0  \n",
      "5  0.99320  3.08       0.66     12.0     0.0       1.0  \n",
      "-----------------------\n",
      "    index  quality  fixed acidity  volatile acidity  citric acid  \\\n",
      "4       4        6            7.8              0.40         0.26   \n",
      "12     12        7            7.3              0.33         0.40   \n",
      "14     14        5           12.5              0.38         0.60   \n",
      "15     15        5            7.8              0.49         0.49   \n",
      "29     29        4            7.6              0.26         0.36   \n",
      "\n",
      "    residual sugar  chlorides  free sulfur dioxide  total sulfur dioxide  \\\n",
      "4             9.50      0.059                 32.0                 178.0   \n",
      "12            6.85      0.038                 32.0                 138.0   \n",
      "14            2.60      0.081                 31.0                  72.0   \n",
      "15            7.00      0.043                 29.0                 149.0   \n",
      "29            1.60      0.032                  6.0                 106.0   \n",
      "\n",
      "    density    pH  sulphates  alcohol  x0_red  x0_white  \n",
      "4    0.9955  3.04       0.43     10.9     0.0       1.0  \n",
      "12   0.9920  3.03       0.30     11.9     0.0       1.0  \n",
      "14   0.9996  3.10       0.73     10.5     1.0       0.0  \n",
      "15   0.9952  3.21       0.33     10.0     0.0       1.0  \n",
      "29   0.9930  3.15       0.40     10.4     0.0       1.0  \n",
      "   index  quality  fixed acidity  volatile acidity  citric acid  \\\n",
      "0      0        5            5.6             0.695         0.06   \n",
      "2      2        5            7.9             0.210         0.39   \n",
      "3      3        6            7.0             0.210         0.31   \n",
      "4      4        6            7.8             0.400         0.26   \n",
      "5      5        6            6.0             0.190         0.37   \n",
      "\n",
      "   residual sugar  chlorides  free sulfur dioxide  total sulfur dioxide  \\\n",
      "0             6.8      0.042                  9.0                  84.0   \n",
      "2             2.0      0.057                 21.0                 138.0   \n",
      "3             6.0      0.046                 29.0                 108.0   \n",
      "4             9.5      0.059                 32.0                 178.0   \n",
      "5             9.7      0.032                 17.0                  50.0   \n",
      "\n",
      "   density    pH  sulphates  alcohol  x0_red  x0_white  \n",
      "0  0.99432  3.44       0.44     10.2     0.0       1.0  \n",
      "2  0.99176  3.05       0.52     10.9     0.0       1.0  \n",
      "3  0.99390  3.26       0.50     10.8     0.0       1.0  \n",
      "4  0.99550  3.04       0.43     10.9     0.0       1.0  \n",
      "5  0.99320  3.08       0.66     12.0     0.0       1.0  \n",
      "-----------------------\n",
      "    index  quality  fixed acidity  volatile acidity  citric acid  \\\n",
      "1       1        5            8.8             0.610         0.14   \n",
      "9       9        5            6.8             0.390         0.35   \n",
      "22     22        6            7.1             0.210         0.33   \n",
      "23     23        6            7.7             0.715         0.01   \n",
      "32     32        6            6.8             0.270         0.30   \n",
      "\n",
      "    residual sugar  chlorides  free sulfur dioxide  total sulfur dioxide  \\\n",
      "1              2.4      0.067                 10.0                  42.0   \n",
      "9             11.6      0.044                 57.0                 220.0   \n",
      "22             1.2      0.039                 34.0                  97.0   \n",
      "23             2.1      0.064                 31.0                  43.0   \n",
      "32            13.0      0.047                 69.0                 160.0   \n",
      "\n",
      "    density    pH  sulphates  alcohol  x0_red  x0_white  \n",
      "1   0.99690  3.19       0.59      9.5     1.0       0.0  \n",
      "9   0.99775  3.07       0.53      9.3     0.0       1.0  \n",
      "22  0.99112  3.11       0.75     11.2     0.0       1.0  \n",
      "23  0.99371  3.41       0.57     11.8     1.0       0.0  \n",
      "32  0.99705  3.16       0.50      9.6     0.0       1.0  \n",
      "   index  quality  fixed acidity  volatile acidity  citric acid  \\\n",
      "0      0        5            5.6             0.695         0.06   \n",
      "1      1        5            8.8             0.610         0.14   \n",
      "4      4        6            7.8             0.400         0.26   \n",
      "7      7        6            7.1             0.380         0.42   \n",
      "8      8        5            6.8             0.240         0.31   \n",
      "\n",
      "   residual sugar  chlorides  free sulfur dioxide  total sulfur dioxide  \\\n",
      "0             6.8      0.042                  9.0                  84.0   \n",
      "1             2.4      0.067                 10.0                  42.0   \n",
      "4             9.5      0.059                 32.0                 178.0   \n",
      "7            11.8      0.041                 32.0                 193.0   \n",
      "8            18.3      0.046                 40.0                 142.0   \n",
      "\n",
      "   density    pH  sulphates  alcohol  x0_red  x0_white  \n",
      "0  0.99432  3.44       0.44     10.2     0.0       1.0  \n",
      "1  0.99690  3.19       0.59      9.5     1.0       0.0  \n",
      "4  0.99550  3.04       0.43     10.9     0.0       1.0  \n",
      "7  0.99624  3.04       0.49     10.0     0.0       1.0  \n",
      "8  1.00000  3.30       0.41      8.7     0.0       1.0  \n",
      "-----------------------\n",
      "    index  quality  fixed acidity  volatile acidity  citric acid  \\\n",
      "2       2        5            7.9              0.21         0.39   \n",
      "3       3        6            7.0              0.21         0.31   \n",
      "5       5        6            6.0              0.19         0.37   \n",
      "6       6        5            6.1              0.22         0.49   \n",
      "10     10        6            8.0              0.18         0.37   \n",
      "\n",
      "    residual sugar  chlorides  free sulfur dioxide  total sulfur dioxide  \\\n",
      "2              2.0      0.057                 21.0                 138.0   \n",
      "3              6.0      0.046                 29.0                 108.0   \n",
      "5              9.7      0.032                 17.0                  50.0   \n",
      "6              1.5      0.051                 18.0                  87.0   \n",
      "10             0.9      0.049                 36.0                 109.0   \n",
      "\n",
      "    density    pH  sulphates  alcohol  x0_red  x0_white  \n",
      "2   0.99176  3.05       0.52     10.9     0.0       1.0  \n",
      "3   0.99390  3.26       0.50     10.8     0.0       1.0  \n",
      "5   0.99320  3.08       0.66     12.0     0.0       1.0  \n",
      "6   0.99280  3.30       0.46      9.6     0.0       1.0  \n",
      "10  0.99007  2.89       0.44     12.7     1.0       0.0  \n",
      "   index  quality  fixed acidity  volatile acidity  citric acid  \\\n",
      "0      0        5            5.6             0.695         0.06   \n",
      "1      1        5            8.8             0.610         0.14   \n",
      "2      2        5            7.9             0.210         0.39   \n",
      "3      3        6            7.0             0.210         0.31   \n",
      "4      4        6            7.8             0.400         0.26   \n",
      "\n",
      "   residual sugar  chlorides  free sulfur dioxide  total sulfur dioxide  \\\n",
      "0             6.8      0.042                  9.0                  84.0   \n",
      "1             2.4      0.067                 10.0                  42.0   \n",
      "2             2.0      0.057                 21.0                 138.0   \n",
      "3             6.0      0.046                 29.0                 108.0   \n",
      "4             9.5      0.059                 32.0                 178.0   \n",
      "\n",
      "   density    pH  sulphates  alcohol  x0_red  x0_white  \n",
      "0  0.99432  3.44       0.44     10.2     0.0       1.0  \n",
      "1  0.99690  3.19       0.59      9.5     1.0       0.0  \n",
      "2  0.99176  3.05       0.52     10.9     0.0       1.0  \n",
      "3  0.99390  3.26       0.50     10.8     0.0       1.0  \n",
      "4  0.99550  3.04       0.43     10.9     0.0       1.0  \n",
      "-----------------------\n",
      "    index  quality  fixed acidity  volatile acidity  citric acid  \\\n",
      "8       8        5            6.8              0.24         0.31   \n",
      "13     13        5            7.1              0.31         0.17   \n",
      "18     18        6            8.2              0.23         0.40   \n",
      "19     19        6            6.8              0.31         0.25   \n",
      "20     20        5            7.6              0.31         0.26   \n",
      "\n",
      "    residual sugar  chlorides  free sulfur dioxide  total sulfur dioxide  \\\n",
      "8             18.3      0.046                 40.0                 142.0   \n",
      "13             1.0      0.042                 21.0                 144.0   \n",
      "18             7.5      0.049                 12.0                  76.0   \n",
      "19            10.5      0.043                 30.0                 165.0   \n",
      "20             1.7      0.073                 40.0                 157.0   \n",
      "\n",
      "    density    pH  sulphates  alcohol  x0_red  x0_white  \n",
      "8   1.00000  3.30       0.41     8.70     0.0       1.0  \n",
      "13  0.99304  3.13       0.40     9.60     0.0       1.0  \n",
      "18  0.99660  3.06       0.84     9.70     0.0       1.0  \n",
      "19  0.99720  3.36       0.55    10.55     0.0       1.0  \n",
      "20  0.99380  3.10       0.46     9.80     0.0       1.0  \n",
      "   index  quality  fixed acidity  volatile acidity  citric acid  \\\n",
      "1      1        5            8.8              0.61         0.14   \n",
      "2      2        5            7.9              0.21         0.39   \n",
      "3      3        6            7.0              0.21         0.31   \n",
      "4      4        6            7.8              0.40         0.26   \n",
      "5      5        6            6.0              0.19         0.37   \n",
      "\n",
      "   residual sugar  chlorides  free sulfur dioxide  total sulfur dioxide  \\\n",
      "1             2.4      0.067                 10.0                  42.0   \n",
      "2             2.0      0.057                 21.0                 138.0   \n",
      "3             6.0      0.046                 29.0                 108.0   \n",
      "4             9.5      0.059                 32.0                 178.0   \n",
      "5             9.7      0.032                 17.0                  50.0   \n",
      "\n",
      "   density    pH  sulphates  alcohol  x0_red  x0_white  \n",
      "1  0.99690  3.19       0.59      9.5     1.0       0.0  \n",
      "2  0.99176  3.05       0.52     10.9     0.0       1.0  \n",
      "3  0.99390  3.26       0.50     10.8     0.0       1.0  \n",
      "4  0.99550  3.04       0.43     10.9     0.0       1.0  \n",
      "5  0.99320  3.08       0.66     12.0     0.0       1.0  \n",
      "-----------------------\n",
      "    index  quality  fixed acidity  volatile acidity  citric acid  \\\n",
      "0       0        5            5.6             0.695         0.06   \n",
      "7       7        6            7.1             0.380         0.42   \n",
      "21     21        5            7.2             0.560         0.26   \n",
      "24     24        5            8.9             0.750         0.14   \n",
      "25     25        8            6.6             0.290         0.31   \n",
      "\n",
      "    residual sugar  chlorides  free sulfur dioxide  total sulfur dioxide  \\\n",
      "0              6.8      0.042                  9.0                  84.0   \n",
      "7             11.8      0.041                 32.0                 193.0   \n",
      "21             2.0      0.083                 13.0                 100.0   \n",
      "24             2.5      0.086                  9.0                  30.0   \n",
      "25             3.9      0.027                 39.0                  96.0   \n",
      "\n",
      "    density    pH  sulphates  alcohol  x0_red  x0_white  \n",
      "0   0.99432  3.44       0.44     10.2     0.0       1.0  \n",
      "7   0.99624  3.04       0.49     10.0     0.0       1.0  \n",
      "21  0.99586  3.26       0.52      9.9     1.0       0.0  \n",
      "24  0.99824  3.34       0.64     10.5     1.0       0.0  \n",
      "25  0.99035  3.24       0.60     12.6     0.0       1.0  \n"
     ]
    }
   ],
   "source": [
    "# train & valid set에 접근하기\n",
    "for train_idx, valid_idx in kf.split(train) : \n",
    "    train_data = train.iloc[train_idx]\n",
    "    valid_data = train.iloc[valid_idx]\n",
    "    print(train_data.head())\n",
    "    print('-----------------------')\n",
    "    print(valid_data.head())"
   ]
  },
  {
   "cell_type": "code",
   "execution_count": 105,
   "id": "e0dbf50b",
   "metadata": {},
   "outputs": [
    {
     "data": {
      "image/png": "[encoded data removed]",
      "text/plain": [
       "<Figure size 432x288 with 1 Axes>"
      ]
     },
     "metadata": {
      "needs_background": "light"
     },
     "output_type": "display_data"
    }
   ],
   "source": [
    "import matplotlib.pyplot as plt\n",
    "\n",
    "# shuffle = False : 5개 데이터셋에 vaild 데이터가 겹치지 않고 나눠진 것을 확인\n",
    "kf = KFold(n_splits = 5, shuffle = False)\n",
    "train_idx_store = []\n",
    "valid_idx_store = []\n",
    "\n",
    "\n",
    "i = 1\n",
    "\n",
    "for train_idx, valid_idx in kf.split(train) :\n",
    "    plt.scatter(valid_idx, [i for x in range(len(valid_idx))], alpha = 0.1)\n",
    "    i += 1\n",
    "plt.show()"
   ]
  },
  {
   "attachments": {
    "image.png": {
     "image/png": "[encoded data removed]"
    }
   },
   "cell_type": "markdown",
   "id": "ad549e61",
   "metadata": {},
   "source": [
    "![image.png](attachment:image.png)\n",
    "\n",
    "### Process\n",
    "\n",
    "1. K-Fold를 이용해서 Train과 Valid Data를 나눈다.\n",
    "2. Model을 이용해서 train 데이터를 학습한다.\n",
    "3. Model을 이용해서 valid 데이터를 예측해 성능을 확인한다.\n",
    "4. Model을 이용해서 test 데이터를 예측한다.\n",
    "5. n_splits를 5로 설정한다면, 5개의 결과값들에 대한 “최빈값”을 이용해 가장 등장할 가능성이 높은 결과값으로 결정한다.\n",
    "6. 결과를 제출한다.\n"
   ]
  },
  {
   "cell_type": "code",
   "execution_count": 109,
   "id": "aac6383b",
   "metadata": {},
   "outputs": [],
   "source": [
    "train = pd.read_csv('../data/와인/train.csv')\n",
    "test = pd.read_csv('../data/와인/test.csv')\n",
    "\n",
    "# Scailing\n",
    "scaler = MinMaxScaler()\n",
    "scaler.fit(train[['fixed acidity']])\n",
    "train['Scaled fixed acidity'] = scaler.transform(train[['fixed acidity']])\n",
    "test['Scaled fixed acidity'] = scaler.transform(test[['fixed acidity']])\n",
    "\n",
    "# Encoding\n",
    "encoder = OneHotEncoder()\n",
    "encoder.fit(train[['type']])\n",
    "onehot = encoder.transform(train[['type']])\n",
    "onehot = onehot.toarray()\n",
    "onehot = pd.DataFrame(onehot)\n",
    "onehot.columns = encoder.get_feature_names()\n",
    "train = pd.concat([train, onehot], axis = 1)\n",
    "train = train.drop(columns = ['type'])\n",
    "\n",
    "onehot = encoder.transform(test[['type']])\n",
    "onehot = onehot.toarray()\n",
    "onehot = pd.DataFrame(onehot)\n",
    "onehot.columns = encoder.get_feature_names()\n",
    "test = pd.concat([test, onehot], axis = 1)\n",
    "test = test.drop(columns = ['type'])"
   ]
  },
  {
   "cell_type": "code",
   "execution_count": 110,
   "id": "fb0b4e4a",
   "metadata": {},
   "outputs": [],
   "source": [
    "# X, y 변수 선언\n",
    "X = train.drop(columns=['index', 'quality'])\n",
    "y = train['quality']\n",
    "\n",
    "# k-fold 변수 선언\n",
    "kf = KFold(n_splits= 5, shuffle= True, random_state= 0)\n",
    "\n",
    "# Model 선언 - RandomForestClassifier\n",
    "model = RandomForestClassifier(random_state=0)\n",
    "\n",
    "# 모델 예측 결과, 테스트 예측 결과 저장 리스트\n",
    "valid_scores = []\n",
    "test_predictions = []"
   ]
  },
  {
   "cell_type": "code",
   "execution_count": 111,
   "id": "371ce2dc",
   "metadata": {},
   "outputs": [],
   "source": [
    "# Training\n",
    "\n",
    "for train_idx, valid_idx in kf.split(X, y):\n",
    "    # train & valid set X, y 설정\n",
    "    X_tr = X.iloc[train_idx] # X에서 특정 idx 행에 있는 값들만 추출\n",
    "    y_tr = y.iloc[train_idx]\n",
    "    \n",
    "    X_val = X.iloc[valid_idx]\n",
    "    y_val = y.iloc[valid_idx]\n",
    "    \n",
    "    # Model training\n",
    "    model.fit(X_tr, y_tr)\n",
    "    \n",
    "    # model 검증하기 - valid 데이터로 model 성능 예측, 결과\n",
    "#     valid_prediction = model.predict(X_val)\n",
    "#     # 검증한 모델의 정확도\n",
    "#     score = accuracy_score(y_val, valid_prediction)\n",
    "#     valid_scores.append(score)\n",
    "#     print(score)\n",
    "    \n",
    "    # Test 예측\n",
    "    test_prediction = model.predict(test.drop(columns = ['index']))\n",
    "    test_predictions.append(test_prediction)\n",
    "# print('검증한 모델의 정확도(평균) : ', np.mean(valid_scores)) # 0.6761829762594094\n"
   ]
  },
  {
   "cell_type": "code",
   "execution_count": 112,
   "id": "2ee1f07f",
   "metadata": {},
   "outputs": [
    {
     "data": {
      "text/html": [
       "<div>\n",
       "<style scoped>\n",
       "    .dataframe tbody tr th:only-of-type {\n",
       "        vertical-align: middle;\n",
       "    }\n",
       "\n",
       "    .dataframe tbody tr th {\n",
       "        vertical-align: top;\n",
       "    }\n",
       "\n",
       "    .dataframe thead th {\n",
       "        text-align: right;\n",
       "    }\n",
       "</style>\n",
       "<table border=\"1\" class=\"dataframe\">\n",
       "  <thead>\n",
       "    <tr style=\"text-align: right;\">\n",
       "      <th></th>\n",
       "      <th>0</th>\n",
       "      <th>1</th>\n",
       "      <th>2</th>\n",
       "      <th>3</th>\n",
       "      <th>4</th>\n",
       "      <th>5</th>\n",
       "      <th>6</th>\n",
       "      <th>7</th>\n",
       "      <th>8</th>\n",
       "      <th>9</th>\n",
       "      <th>...</th>\n",
       "      <th>990</th>\n",
       "      <th>991</th>\n",
       "      <th>992</th>\n",
       "      <th>993</th>\n",
       "      <th>994</th>\n",
       "      <th>995</th>\n",
       "      <th>996</th>\n",
       "      <th>997</th>\n",
       "      <th>998</th>\n",
       "      <th>999</th>\n",
       "    </tr>\n",
       "  </thead>\n",
       "  <tbody>\n",
       "    <tr>\n",
       "      <th>0</th>\n",
       "      <td>5</td>\n",
       "      <td>6</td>\n",
       "      <td>6</td>\n",
       "      <td>5</td>\n",
       "      <td>6</td>\n",
       "      <td>6</td>\n",
       "      <td>6</td>\n",
       "      <td>6</td>\n",
       "      <td>6</td>\n",
       "      <td>7</td>\n",
       "      <td>...</td>\n",
       "      <td>6</td>\n",
       "      <td>6</td>\n",
       "      <td>6</td>\n",
       "      <td>5</td>\n",
       "      <td>7</td>\n",
       "      <td>6</td>\n",
       "      <td>6</td>\n",
       "      <td>5</td>\n",
       "      <td>6</td>\n",
       "      <td>6</td>\n",
       "    </tr>\n",
       "    <tr>\n",
       "      <th>1</th>\n",
       "      <td>5</td>\n",
       "      <td>6</td>\n",
       "      <td>6</td>\n",
       "      <td>5</td>\n",
       "      <td>6</td>\n",
       "      <td>6</td>\n",
       "      <td>6</td>\n",
       "      <td>6</td>\n",
       "      <td>6</td>\n",
       "      <td>7</td>\n",
       "      <td>...</td>\n",
       "      <td>6</td>\n",
       "      <td>6</td>\n",
       "      <td>6</td>\n",
       "      <td>6</td>\n",
       "      <td>7</td>\n",
       "      <td>6</td>\n",
       "      <td>6</td>\n",
       "      <td>5</td>\n",
       "      <td>6</td>\n",
       "      <td>6</td>\n",
       "    </tr>\n",
       "    <tr>\n",
       "      <th>2</th>\n",
       "      <td>6</td>\n",
       "      <td>6</td>\n",
       "      <td>6</td>\n",
       "      <td>5</td>\n",
       "      <td>6</td>\n",
       "      <td>6</td>\n",
       "      <td>6</td>\n",
       "      <td>6</td>\n",
       "      <td>6</td>\n",
       "      <td>7</td>\n",
       "      <td>...</td>\n",
       "      <td>6</td>\n",
       "      <td>6</td>\n",
       "      <td>6</td>\n",
       "      <td>6</td>\n",
       "      <td>7</td>\n",
       "      <td>5</td>\n",
       "      <td>6</td>\n",
       "      <td>5</td>\n",
       "      <td>6</td>\n",
       "      <td>6</td>\n",
       "    </tr>\n",
       "    <tr>\n",
       "      <th>3</th>\n",
       "      <td>5</td>\n",
       "      <td>6</td>\n",
       "      <td>6</td>\n",
       "      <td>6</td>\n",
       "      <td>6</td>\n",
       "      <td>6</td>\n",
       "      <td>5</td>\n",
       "      <td>6</td>\n",
       "      <td>6</td>\n",
       "      <td>6</td>\n",
       "      <td>...</td>\n",
       "      <td>6</td>\n",
       "      <td>6</td>\n",
       "      <td>6</td>\n",
       "      <td>6</td>\n",
       "      <td>7</td>\n",
       "      <td>6</td>\n",
       "      <td>6</td>\n",
       "      <td>5</td>\n",
       "      <td>6</td>\n",
       "      <td>6</td>\n",
       "    </tr>\n",
       "    <tr>\n",
       "      <th>4</th>\n",
       "      <td>5</td>\n",
       "      <td>6</td>\n",
       "      <td>6</td>\n",
       "      <td>5</td>\n",
       "      <td>7</td>\n",
       "      <td>6</td>\n",
       "      <td>5</td>\n",
       "      <td>6</td>\n",
       "      <td>6</td>\n",
       "      <td>7</td>\n",
       "      <td>...</td>\n",
       "      <td>6</td>\n",
       "      <td>6</td>\n",
       "      <td>6</td>\n",
       "      <td>6</td>\n",
       "      <td>6</td>\n",
       "      <td>6</td>\n",
       "      <td>5</td>\n",
       "      <td>5</td>\n",
       "      <td>6</td>\n",
       "      <td>7</td>\n",
       "    </tr>\n",
       "  </tbody>\n",
       "</table>\n",
       "<p>5 rows × 1000 columns</p>\n",
       "</div>"
      ],
      "text/plain": [
       "   0    1    2    3    4    5    6    7    8    9    ...  990  991  992  993  \\\n",
       "0    5    6    6    5    6    6    6    6    6    7  ...    6    6    6    5   \n",
       "1    5    6    6    5    6    6    6    6    6    7  ...    6    6    6    6   \n",
       "2    6    6    6    5    6    6    6    6    6    7  ...    6    6    6    6   \n",
       "3    5    6    6    6    6    6    5    6    6    6  ...    6    6    6    6   \n",
       "4    5    6    6    5    7    6    5    6    6    7  ...    6    6    6    6   \n",
       "\n",
       "   994  995  996  997  998  999  \n",
       "0    7    6    6    5    6    6  \n",
       "1    7    6    6    5    6    6  \n",
       "2    7    5    6    5    6    6  \n",
       "3    7    6    6    5    6    6  \n",
       "4    6    6    5    5    6    7  \n",
       "\n",
       "[5 rows x 1000 columns]"
      ]
     },
     "execution_count": 112,
     "metadata": {},
     "output_type": "execute_result"
    }
   ],
   "source": [
    "# model별 Test 예측 결과 출력\n",
    "test_predictions = pd.DataFrame(test_predictions)\n",
    "test_predictions"
   ]
  },
  {
   "cell_type": "code",
   "execution_count": 114,
   "id": "d9120861",
   "metadata": {},
   "outputs": [
    {
     "data": {
      "text/plain": [
       "array([5, 6, 6, 5, 6, 6, 6, 6, 6, 7, 6, 5, 7, 6, 5, 5, 6, 7, 5, 6, 6, 6,\n",
       "       5, 7, 6, 5, 5, 5, 5, 5, 7, 6, 5, 5, 6, 6, 5, 5, 6, 6, 6, 5, 5, 5,\n",
       "       6, 6, 5, 6, 4, 6, 5, 5, 6, 4, 5, 6, 6, 5, 5, 6, 5, 6, 6, 6, 6, 6,\n",
       "       5, 5, 6, 5, 5, 5, 5, 5, 6, 5, 6, 6, 6, 7, 6, 6, 5, 5, 6, 6, 5, 5,\n",
       "       6, 6, 6, 6, 6, 6, 6, 7, 6, 6, 6, 6, 5, 6, 5, 5, 6, 6, 6, 6, 7, 5,\n",
       "       7, 6, 6, 5, 5, 6, 6, 7, 7, 5, 6, 5, 6, 7, 5, 5, 6, 6, 6, 7, 5, 5,\n",
       "       6, 5, 5, 6, 6, 7, 5, 5, 5, 6, 5, 5, 5, 5, 7, 6, 7, 6, 5, 8, 6, 5,\n",
       "       6, 5, 6, 5, 6, 5, 5, 6, 6, 7, 6, 6, 6, 6, 5, 6, 5, 5, 6, 5, 6, 6,\n",
       "       6, 5, 6, 6, 6, 6, 7, 7, 5, 6, 6, 6, 5, 6, 6, 6, 6, 6, 6, 6, 6, 5,\n",
       "       5, 5, 6, 5, 6, 5, 5, 5, 6, 6, 6, 6, 7, 5, 5, 5, 6, 6, 6, 6, 6, 6,\n",
       "       6, 6, 6, 6, 7, 6, 6, 5, 6, 5, 6, 7, 7, 6, 6, 6, 5, 6, 6, 7, 6, 6,\n",
       "       6, 6, 7, 6, 5, 6, 6, 6, 5, 6, 7, 7, 6, 6, 6, 7, 7, 6, 7, 5, 5, 7,\n",
       "       5, 5, 6, 5, 6, 6, 6, 5, 5, 5, 6, 5, 7, 7, 5, 6, 6, 6, 6, 5, 7, 7,\n",
       "       6, 6, 6, 6, 5, 5, 5, 6, 5, 7, 8, 6, 5, 7, 6, 6, 5, 5, 5, 7, 5, 7,\n",
       "       5, 5, 6, 5, 6, 5, 6, 6, 5, 5, 6, 6, 5, 6, 6, 5, 5, 5, 5, 6, 6, 5,\n",
       "       5, 7, 7, 5, 5, 6, 5, 6, 6, 6, 6, 6, 6, 6, 5, 6, 5, 6, 5, 6, 5, 6,\n",
       "       5, 6, 6, 5, 6, 6, 6, 6, 5, 6, 6, 7, 7, 6, 5, 5, 7, 6, 6, 6, 5, 5,\n",
       "       6, 5, 5, 6, 6, 6, 7, 6, 7, 7, 5, 6, 6, 5, 6, 5, 7, 5, 7, 5, 5, 6,\n",
       "       6, 6, 7, 5, 7, 6, 6, 6, 7, 5, 6, 6, 6, 6, 6, 5, 6, 5, 6, 6, 6, 6,\n",
       "       5, 5, 7, 6, 5, 6, 5, 6, 6, 6, 5, 6, 7, 5, 5, 6, 7, 5, 6, 5, 5, 5,\n",
       "       5, 7, 6, 6, 6, 6, 5, 5, 5, 6, 6, 6, 5, 6, 6, 6, 7, 5, 6, 5, 5, 7,\n",
       "       5, 5, 5, 5, 6, 6, 6, 5, 5, 5, 5, 5, 5, 6, 6, 8, 7, 6, 6, 7, 6, 5,\n",
       "       8, 6, 5, 6, 5, 6, 7, 6, 5, 7, 5, 6, 6, 5, 6, 6, 6, 6, 6, 7, 6, 5,\n",
       "       6, 7, 6, 7, 5, 5, 6, 6, 5, 5, 5, 7, 6, 5, 5, 5, 5, 7, 6, 5, 7, 6,\n",
       "       6, 6, 5, 5, 6, 5, 6, 6, 6, 6, 5, 5, 6, 5, 6, 6, 6, 6, 6, 5, 5, 6,\n",
       "       6, 6, 6, 6, 5, 6, 5, 5, 5, 6, 5, 6, 6, 6, 7, 6, 6, 7, 6, 5, 6, 5,\n",
       "       5, 7, 6, 5, 6, 5, 5, 5, 6, 6, 6, 5, 6, 7, 7, 7, 6, 7, 7, 5, 7, 6,\n",
       "       5, 6, 5, 6, 6, 6, 6, 7, 6, 7, 5, 6, 5, 5, 7, 6, 8, 5, 6, 6, 6, 6,\n",
       "       5, 6, 7, 6, 6, 6, 6, 6, 5, 6, 5, 6, 5, 6, 5, 5, 6, 5, 5, 7, 5, 6,\n",
       "       8, 5, 5, 6, 6, 6, 6, 6, 5, 5, 6, 5, 6, 5, 6, 7, 6, 5, 6, 6, 6, 5,\n",
       "       7, 5, 6, 6, 6, 5, 6, 5, 6, 5, 6, 5, 6, 6, 5, 5, 5, 6, 7, 7, 7, 6,\n",
       "       7, 5, 6, 8, 6, 6, 5, 6, 7, 5, 5, 6, 6, 6, 6, 6, 5, 6, 7, 5, 6, 5,\n",
       "       5, 6, 5, 6, 5, 5, 5, 5, 6, 5, 7, 6, 5, 6, 6, 6, 5, 6, 8, 5, 5, 6,\n",
       "       6, 4, 7, 6, 5, 7, 5, 5, 7, 6, 5, 7, 6, 5, 6, 6, 6, 5, 5, 6, 7, 6,\n",
       "       5, 5, 6, 5, 5, 6, 6, 7, 5, 7, 5, 7, 5, 5, 6, 7, 6, 6, 5, 6, 5, 6,\n",
       "       5, 5, 6, 5, 6, 6, 6, 5, 6, 5, 6, 5, 5, 6, 5, 5, 6, 5, 5, 6, 6, 6,\n",
       "       6, 6, 7, 6, 6, 5, 6, 5, 5, 5, 6, 6, 5, 6, 5, 7, 6, 6, 7, 6, 5, 6,\n",
       "       7, 5, 6, 6, 6, 5, 6, 5, 5, 5, 8, 6, 6, 5, 6, 7, 6, 7, 6, 5, 7, 6,\n",
       "       6, 7, 5, 6, 5, 6, 6, 6, 6, 6, 6, 7, 7, 6, 5, 7, 5, 6, 5, 6, 6, 5,\n",
       "       5, 6, 5, 6, 6, 5, 6, 6, 6, 7, 5, 6, 7, 7, 7, 7, 5, 5, 6, 6, 6, 6,\n",
       "       5, 7, 5, 5, 5, 6, 5, 6, 7, 5, 5, 6, 7, 5, 5, 5, 6, 6, 6, 7, 6, 6,\n",
       "       5, 7, 6, 6, 5, 7, 5, 6, 6, 6, 6, 6, 6, 7, 7, 6, 5, 5, 6, 5, 6, 6,\n",
       "       6, 5, 6, 5, 6, 6, 5, 5, 6, 6, 5, 6, 5, 6, 4, 6, 5, 6, 6, 5, 8, 6,\n",
       "       6, 5, 6, 6, 6, 8, 6, 6, 5, 6, 6, 6, 6, 6, 5, 5, 5, 5, 6, 5, 5, 5,\n",
       "       5, 7, 6, 6, 7, 7, 6, 5, 6, 6, 6, 6, 6, 5, 5, 5, 5, 6, 6, 5, 5, 5,\n",
       "       6, 6, 6, 5, 7, 6, 6, 5, 6, 6], dtype=int64)"
      ]
     },
     "execution_count": 114,
     "metadata": {},
     "output_type": "execute_result"
    }
   ],
   "source": [
    "# test 최종 예측 결과 : col별 최빈값 저장, 첫번 째 행의 결과(최종 결과값)\n",
    "\n",
    "# df.mode() : col별 최빈값 확인\n",
    "test_prediction = test_predictions.mode()\n",
    "test_prediction = test_predictions.values[0]\n",
    "test_prediction"
   ]
  },
  {
   "cell_type": "code",
   "execution_count": 115,
   "id": "c261a48d",
   "metadata": {},
   "outputs": [],
   "source": [
    "# 제출하기\n",
    "sample_submission = pd.read_csv('../data/와인/sample_submission.csv')\n",
    "sample_submission['quality'] = test_prediction\n",
    "sample_submission.to_csv('submission_KFOLD.csv', index=False)"
   ]
  },
  {
   "cell_type": "code",
   "execution_count": null,
   "id": "67edeb0a",
   "metadata": {},
   "outputs": [],
   "source": []
  }
 ],
 "metadata": {
  "kernelspec": {
   "display_name": "Python 3",
   "language": "python",
   "name": "python3"
  },
  "language_info": {
   "codemirror_mode": {
    "name": "ipython",
    "version": 3
   },
   "file_extension": ".py",
   "mimetype": "text/x-python",
   "name": "python",
   "nbconvert_exporter": "python",
   "pygments_lexer": "ipython3",
   "version": "3.8.8"
  }
 },
 "nbformat": 4,
 "nbformat_minor": 5
}
